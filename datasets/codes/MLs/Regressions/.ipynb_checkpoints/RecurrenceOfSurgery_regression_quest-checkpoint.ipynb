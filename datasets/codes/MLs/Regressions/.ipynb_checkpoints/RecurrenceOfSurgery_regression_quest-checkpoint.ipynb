{
 "cells": [
  {
   "cell_type": "markdown",
   "id": "2c6744e5-0b62-4129-a438-485bfe47f312",
   "metadata": {},
   "source": [
    "### Quest\n",
    "- RecurrenceOfSurgery.csv 연속형 데이터 사용\n",
    "- 목표변수(연령), 설명변수(선택 3개)\n",
    "- linear regression 학습, 평가, 서비스(pickle)"
   ]
  },
  {
   "cell_type": "code",
   "execution_count": 1,
   "id": "2c5356ea-c222-49c1-921b-cb008a4d471f",
   "metadata": {
    "tags": []
   },
   "outputs": [],
   "source": [
    "import pandas as pd"
   ]
  },
  {
   "cell_type": "code",
   "execution_count": null,
   "id": "af5669be-84b5-4929-b314-6c313065d9a4",
   "metadata": {},
   "outputs": [],
   "source": [
    "df_BCD = pd.read_csv('../../../datasets/RecurrenceOfSurgery.csv')\n",
    "df_BCD[:2]"
   ]
  }
 ],
 "metadata": {
  "kernelspec": {
   "display_name": "Python 3 (ipykernel)",
   "language": "python",
   "name": "python3"
  },
  "language_info": {
   "codemirror_mode": {
    "name": "ipython",
    "version": 3
   },
   "file_extension": ".py",
   "mimetype": "text/x-python",
   "name": "python",
   "nbconvert_exporter": "python",
   "pygments_lexer": "ipython3",
   "version": "3.11.3"
  }
 },
 "nbformat": 4,
 "nbformat_minor": 5
}
