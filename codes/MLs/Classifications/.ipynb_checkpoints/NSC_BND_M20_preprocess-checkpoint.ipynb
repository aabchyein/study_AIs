{
 "cells": [
  {
   "cell_type": "markdown",
   "id": "e9cc2b48-0582-449d-b212-82b74d9b6d6a",
   "metadata": {},
   "source": [
    "###  Quest\n",
    "- NSC_BND_M20 사용 (목표변수:SICK_SYM1, 설명변수: 연속형변수 5개 사용)\n",
    "- DecisionTreeClassifier 전처리, 학습, 평가"
   ]
  },
  {
   "cell_type": "markdown",
   "id": "e24ab5a2-f405-4de8-87ad-9b0f457c0c80",
   "metadata": {},
   "source": [
    "#### 변수설정\n",
    "1. 목표변수 : SICK_SYM1\n",
    "2. 설명변수\n",
    "    * MDCARE_DD_CNT(요양일수)\n",
    "    * VSHSP_DD_CNT(입내원일수)\n",
    "    * TOT_PRSC_DD_CNT(총처방일수)\n",
    "    * EDC_SBA(심결본인부담금)\n",
    "    * EDC_INSUR_BRDN_AMT(심결보험자부담금)"
   ]
  },
  {
   "cell_type": "code",
   "execution_count": 1,
   "id": "c1c1d86e-bef2-4589-8a55-216808817d2e",
   "metadata": {
    "tags": []
   },
   "outputs": [],
   "source": [
    "import pymongo as mg\n",
    "import pandas as pd"
   ]
  },
  {
   "cell_type": "code",
   "execution_count": 2,
   "id": "b209752f-c633-46f8-ba40-e308eb55e45b",
   "metadata": {
    "tags": []
   },
   "outputs": [],
   "source": [
    "client = mg.MongoClient(host='mongodb://localhost:27017')"
   ]
  },
  {
   "cell_type": "code",
   "execution_count": 3,
   "id": "d0168e86-e6ac-4fff-9c3e-673775f37009",
   "metadata": {
    "tags": []
   },
   "outputs": [],
   "source": [
    "database = client['db_NHIS']"
   ]
  },
  {
   "cell_type": "code",
   "execution_count": 4,
   "id": "39255c48-abc6-43e9-b1f2-049ca3017629",
   "metadata": {
    "tags": []
   },
   "outputs": [],
   "source": [
    "collection = database['Join Collection NSC2_BND_M20']"
   ]
  },
  {
   "cell_type": "code",
   "execution_count": 10,
   "id": "f5b0e556-ae82-4b52-8471-912b343aedc0",
   "metadata": {
    "tags": []
   },
   "outputs": [],
   "source": [
    "cursor = collection.find({})"
   ]
  },
  {
   "cell_type": "code",
   "execution_count": 11,
   "id": "d36fccbc-1578-417f-9b46-7305132715ed",
   "metadata": {
    "tags": []
   },
   "outputs": [],
   "source": [
    "list_patient = list(cursor)"
   ]
  },
  {
   "cell_type": "code",
   "execution_count": 15,
   "id": "99637d86-50e4-4599-9198-ded8c018fd6f",
   "metadata": {
    "tags": []
   },
   "outputs": [
    {
     "data": {
      "text/html": [
       "<div>\n",
       "<style scoped>\n",
       "    .dataframe tbody tr th:only-of-type {\n",
       "        vertical-align: middle;\n",
       "    }\n",
       "\n",
       "    .dataframe tbody tr th {\n",
       "        vertical-align: top;\n",
       "    }\n",
       "\n",
       "    .dataframe thead th {\n",
       "        text-align: right;\n",
       "    }\n",
       "</style>\n",
       "<table border=\"1\" class=\"dataframe\">\n",
       "  <thead>\n",
       "    <tr style=\"text-align: right;\">\n",
       "      <th></th>\n",
       "      <th>_id</th>\n",
       "      <th>RN_INDI</th>\n",
       "      <th>BTH_YYYY</th>\n",
       "      <th>DTH_YYYYMM</th>\n",
       "      <th>COD1</th>\n",
       "      <th>COD2</th>\n",
       "      <th>RN_KEY</th>\n",
       "      <th>RN_INST</th>\n",
       "      <th>MDCARE_STRT_DT</th>\n",
       "      <th>FORM_CD</th>\n",
       "      <th>...</th>\n",
       "      <th>OPRTN_YN</th>\n",
       "      <th>MDCARE_DD_CNT</th>\n",
       "      <th>VSHSP_DD_CNT</th>\n",
       "      <th>TOT_PRSC_DD_CNT</th>\n",
       "      <th>MCARE_RSLT_TYPE</th>\n",
       "      <th>EDC_ADD_RT</th>\n",
       "      <th>ED_RC_TOT_AMT</th>\n",
       "      <th>EDC_SBA</th>\n",
       "      <th>EDC_INSUR_BRDN_AMT</th>\n",
       "      <th>STD_YYYY</th>\n",
       "    </tr>\n",
       "  </thead>\n",
       "  <tbody>\n",
       "    <tr>\n",
       "      <th>0</th>\n",
       "      <td>64e6c524f22b93c7fc16a128</td>\n",
       "      <td>294364</td>\n",
       "      <td>1921LE</td>\n",
       "      <td>200707.0</td>\n",
       "      <td>T08-T14</td>\n",
       "      <td>W00-W19</td>\n",
       "      <td>2002080298703</td>\n",
       "      <td>26452</td>\n",
       "      <td>20020830</td>\n",
       "      <td>3</td>\n",
       "      <td>...</td>\n",
       "      <td>0</td>\n",
       "      <td>1</td>\n",
       "      <td>1</td>\n",
       "      <td>3</td>\n",
       "      <td>5.0</td>\n",
       "      <td>0.15</td>\n",
       "      <td>10590</td>\n",
       "      <td>3000</td>\n",
       "      <td>7590</td>\n",
       "      <td>2002</td>\n",
       "    </tr>\n",
       "    <tr>\n",
       "      <th>1</th>\n",
       "      <td>64e6c524f22b93c7fc16a129</td>\n",
       "      <td>294364</td>\n",
       "      <td>1921LE</td>\n",
       "      <td>200707.0</td>\n",
       "      <td>T08-T14</td>\n",
       "      <td>W00-W19</td>\n",
       "      <td>2002090466395</td>\n",
       "      <td>63715</td>\n",
       "      <td>20020910</td>\n",
       "      <td>3</td>\n",
       "      <td>...</td>\n",
       "      <td>0</td>\n",
       "      <td>1</td>\n",
       "      <td>1</td>\n",
       "      <td>2</td>\n",
       "      <td>5.0</td>\n",
       "      <td>0.15</td>\n",
       "      <td>16520</td>\n",
       "      <td>4950</td>\n",
       "      <td>11570</td>\n",
       "      <td>2002</td>\n",
       "    </tr>\n",
       "  </tbody>\n",
       "</table>\n",
       "<p>2 rows × 23 columns</p>\n",
       "</div>"
      ],
      "text/plain": [
       "                        _id  RN_INDI BTH_YYYY  DTH_YYYYMM     COD1     COD2  \\\n",
       "0  64e6c524f22b93c7fc16a128   294364   1921LE    200707.0  T08-T14  W00-W19   \n",
       "1  64e6c524f22b93c7fc16a129   294364   1921LE    200707.0  T08-T14  W00-W19   \n",
       "\n",
       "          RN_KEY  RN_INST  MDCARE_STRT_DT  FORM_CD  ...  OPRTN_YN  \\\n",
       "0  2002080298703    26452        20020830        3  ...         0   \n",
       "1  2002090466395    63715        20020910        3  ...         0   \n",
       "\n",
       "  MDCARE_DD_CNT VSHSP_DD_CNT  TOT_PRSC_DD_CNT  MCARE_RSLT_TYPE  EDC_ADD_RT  \\\n",
       "0             1            1                3              5.0        0.15   \n",
       "1             1            1                2              5.0        0.15   \n",
       "\n",
       "   ED_RC_TOT_AMT  EDC_SBA  EDC_INSUR_BRDN_AMT  STD_YYYY  \n",
       "0          10590     3000                7590      2002  \n",
       "1          16520     4950               11570      2002  \n",
       "\n",
       "[2 rows x 23 columns]"
      ]
     },
     "execution_count": 15,
     "metadata": {},
     "output_type": "execute_result"
    }
   ],
   "source": [
    "df_NBM = pd.DataFrame(list_patient)\n",
    "df_NBM[:2]"
   ]
  },
  {
   "cell_type": "code",
   "execution_count": 16,
   "id": "d7b7df64-5e4a-4204-b6b2-568d33b2185d",
   "metadata": {
    "tags": []
   },
   "outputs": [
    {
     "name": "stdout",
     "output_type": "stream",
     "text": [
      "<class 'pandas.core.frame.DataFrame'>\n",
      "RangeIndex: 137163 entries, 0 to 137162\n",
      "Data columns (total 23 columns):\n",
      " #   Column              Non-Null Count   Dtype  \n",
      "---  ------              --------------   -----  \n",
      " 0   _id                 137163 non-null  object \n",
      " 1   RN_INDI             137163 non-null  int64  \n",
      " 2   BTH_YYYY            137163 non-null  object \n",
      " 3   DTH_YYYYMM          10269 non-null   float64\n",
      " 4   COD1                8473 non-null    object \n",
      " 5   COD2                998 non-null     object \n",
      " 6   RN_KEY              137163 non-null  int64  \n",
      " 7   RN_INST             137163 non-null  int64  \n",
      " 8   MDCARE_STRT_DT      137163 non-null  int64  \n",
      " 9   FORM_CD             137163 non-null  int64  \n",
      " 10  MCARE_SUBJ_CD       137163 non-null  int64  \n",
      " 11  SICK_SYM1           137163 non-null  object \n",
      " 12  OFIJ_TYPE           134428 non-null  object \n",
      " 13  OPRTN_YN            137163 non-null  int64  \n",
      " 14  MDCARE_DD_CNT       137163 non-null  int64  \n",
      " 15  VSHSP_DD_CNT        137163 non-null  int64  \n",
      " 16  TOT_PRSC_DD_CNT     137163 non-null  int64  \n",
      " 17  MCARE_RSLT_TYPE     133958 non-null  float64\n",
      " 18  EDC_ADD_RT          137163 non-null  float64\n",
      " 19  ED_RC_TOT_AMT       137163 non-null  int64  \n",
      " 20  EDC_SBA             137163 non-null  int64  \n",
      " 21  EDC_INSUR_BRDN_AMT  137163 non-null  int64  \n",
      " 22  STD_YYYY            137163 non-null  int64  \n",
      "dtypes: float64(3), int64(14), object(6)\n",
      "memory usage: 24.1+ MB\n"
     ]
    }
   ],
   "source": [
    "df_NBM.info()"
   ]
  },
  {
   "cell_type": "markdown",
   "id": "56a7e233-4e0c-493f-bb23-050f5854bf92",
   "metadata": {},
   "source": [
    "#### 전처리"
   ]
  },
  {
   "cell_type": "code",
   "execution_count": 14,
   "id": "803d48fe-4cc7-48f9-8c0d-fa0de0f1459a",
   "metadata": {
    "tags": []
   },
   "outputs": [
    {
     "data": {
      "text/plain": [
       "Index(['_id', 'RN_INDI', 'BTH_YYYY', 'DTH_YYYYMM', 'COD1', 'COD2', 'RN_KEY',\n",
       "       'RN_INST', 'MDCARE_STRT_DT', 'FORM_CD', 'MCARE_SUBJ_CD', 'SICK_SYM1',\n",
       "       'OFIJ_TYPE', 'OPRTN_YN', 'MDCARE_DD_CNT', 'VSHSP_DD_CNT',\n",
       "       'TOT_PRSC_DD_CNT', 'MCARE_RSLT_TYPE', 'EDC_ADD_RT', 'ED_RC_TOT_AMT',\n",
       "       'EDC_SBA', 'EDC_INSUR_BRDN_AMT', 'STD_YYYY'],\n",
       "      dtype='object')"
      ]
     },
     "execution_count": 14,
     "metadata": {},
     "output_type": "execute_result"
    }
   ],
   "source": [
    "df_NBM.columns"
   ]
  },
  {
   "cell_type": "code",
   "execution_count": 20,
   "id": "b94bdc0c-d3e4-4c66-b02b-ee6548f09dcc",
   "metadata": {
    "tags": []
   },
   "outputs": [
    {
     "data": {
      "text/plain": [
       "SICK_SYM1             0\n",
       "MDCARE_DD_CNT         0\n",
       "VSHSP_DD_CNT          0\n",
       "TOT_PRSC_DD_CNT       0\n",
       "EDC_SBA               0\n",
       "EDC_INSUR_BRDN_AMT    0\n",
       "dtype: int64"
      ]
     },
     "execution_count": 20,
     "metadata": {},
     "output_type": "execute_result"
    }
   ],
   "source": [
    "df_NBM_extract = df_NBM[['SICK_SYM1', 'MDCARE_DD_CNT', 'VSHSP_DD_CNT', 'TOT_PRSC_DD_CNT', 'EDC_SBA', 'EDC_INSUR_BRDN_AMT']]\n",
    "df_NBM_extract.isnull().sum()"
   ]
  },
  {
   "cell_type": "code",
   "execution_count": 54,
   "id": "5aaa776f-1423-4523-b369-686618442462",
   "metadata": {
    "tags": []
   },
   "outputs": [
    {
     "data": {
      "text/plain": [
       "array(['L028', 'J030', 'K291', ..., 'P920', 'R061', 'P289'], dtype=object)"
      ]
     },
     "execution_count": 54,
     "metadata": {},
     "output_type": "execute_result"
    }
   ],
   "source": [
    "df_NBM_extract['SICK_SYM1'].unique()"
   ]
  },
  {
   "cell_type": "code",
   "execution_count": 64,
   "id": "779e4fbc-2de3-4251-ba3f-0daf21601a2f",
   "metadata": {
    "tags": []
   },
   "outputs": [],
   "source": [
    "df_NBM_extract = df_NBM_extract.drop(columns='SYM1_int')"
   ]
  },
  {
   "cell_type": "code",
   "execution_count": 65,
   "id": "633111aa-53b7-409e-9737-63d0559dde44",
   "metadata": {
    "tags": []
   },
   "outputs": [
    {
     "name": "stderr",
     "output_type": "stream",
     "text": [
      "C:\\Users\\koreavc\\AppData\\Local\\Temp\\ipykernel_4496\\1242638606.py:4: FutureWarning: The default value of regex will change from True to False in a future version.\n",
      "  df_NBM_extract['SICK_SYM1_int'] = df_NBM_extract['SICK_SYM1'].str.replace(r'^[a-zA-Z]', int)\n"
     ]
    },
    {
     "data": {
      "text/html": [
       "<div>\n",
       "<style scoped>\n",
       "    .dataframe tbody tr th:only-of-type {\n",
       "        vertical-align: middle;\n",
       "    }\n",
       "\n",
       "    .dataframe tbody tr th {\n",
       "        vertical-align: top;\n",
       "    }\n",
       "\n",
       "    .dataframe thead th {\n",
       "        text-align: right;\n",
       "    }\n",
       "</style>\n",
       "<table border=\"1\" class=\"dataframe\">\n",
       "  <thead>\n",
       "    <tr style=\"text-align: right;\">\n",
       "      <th></th>\n",
       "      <th>SICK_SYM1</th>\n",
       "      <th>MDCARE_DD_CNT</th>\n",
       "      <th>VSHSP_DD_CNT</th>\n",
       "      <th>TOT_PRSC_DD_CNT</th>\n",
       "      <th>EDC_SBA</th>\n",
       "      <th>EDC_INSUR_BRDN_AMT</th>\n",
       "      <th>SICK_SYM1_int</th>\n",
       "    </tr>\n",
       "  </thead>\n",
       "  <tbody>\n",
       "    <tr>\n",
       "      <th>0</th>\n",
       "      <td>L028</td>\n",
       "      <td>1</td>\n",
       "      <td>1</td>\n",
       "      <td>3</td>\n",
       "      <td>3000</td>\n",
       "      <td>7590</td>\n",
       "      <td>028</td>\n",
       "    </tr>\n",
       "    <tr>\n",
       "      <th>1</th>\n",
       "      <td>J030</td>\n",
       "      <td>1</td>\n",
       "      <td>1</td>\n",
       "      <td>2</td>\n",
       "      <td>4950</td>\n",
       "      <td>11570</td>\n",
       "      <td>030</td>\n",
       "    </tr>\n",
       "    <tr>\n",
       "      <th>2</th>\n",
       "      <td>J030</td>\n",
       "      <td>3</td>\n",
       "      <td>3</td>\n",
       "      <td>3</td>\n",
       "      <td>9000</td>\n",
       "      <td>18620</td>\n",
       "      <td>030</td>\n",
       "    </tr>\n",
       "    <tr>\n",
       "      <th>3</th>\n",
       "      <td>K291</td>\n",
       "      <td>1</td>\n",
       "      <td>1</td>\n",
       "      <td>3</td>\n",
       "      <td>3000</td>\n",
       "      <td>9920</td>\n",
       "      <td>291</td>\n",
       "    </tr>\n",
       "    <tr>\n",
       "      <th>4</th>\n",
       "      <td>M545</td>\n",
       "      <td>1</td>\n",
       "      <td>1</td>\n",
       "      <td>0</td>\n",
       "      <td>3000</td>\n",
       "      <td>11230</td>\n",
       "      <td>545</td>\n",
       "    </tr>\n",
       "    <tr>\n",
       "      <th>...</th>\n",
       "      <td>...</td>\n",
       "      <td>...</td>\n",
       "      <td>...</td>\n",
       "      <td>...</td>\n",
       "      <td>...</td>\n",
       "      <td>...</td>\n",
       "      <td>...</td>\n",
       "    </tr>\n",
       "    <tr>\n",
       "      <th>137158</th>\n",
       "      <td>J209</td>\n",
       "      <td>2</td>\n",
       "      <td>1</td>\n",
       "      <td>0</td>\n",
       "      <td>2300</td>\n",
       "      <td>8980</td>\n",
       "      <td>209</td>\n",
       "    </tr>\n",
       "    <tr>\n",
       "      <th>137159</th>\n",
       "      <td>J209</td>\n",
       "      <td>2</td>\n",
       "      <td>1</td>\n",
       "      <td>0</td>\n",
       "      <td>3700</td>\n",
       "      <td>15940</td>\n",
       "      <td>209</td>\n",
       "    </tr>\n",
       "    <tr>\n",
       "      <th>137160</th>\n",
       "      <td>J209</td>\n",
       "      <td>2</td>\n",
       "      <td>1</td>\n",
       "      <td>0</td>\n",
       "      <td>2800</td>\n",
       "      <td>10670</td>\n",
       "      <td>209</td>\n",
       "    </tr>\n",
       "    <tr>\n",
       "      <th>137161</th>\n",
       "      <td>J209</td>\n",
       "      <td>2</td>\n",
       "      <td>1</td>\n",
       "      <td>0</td>\n",
       "      <td>2600</td>\n",
       "      <td>10930</td>\n",
       "      <td>209</td>\n",
       "    </tr>\n",
       "    <tr>\n",
       "      <th>137162</th>\n",
       "      <td>J00</td>\n",
       "      <td>3</td>\n",
       "      <td>1</td>\n",
       "      <td>0</td>\n",
       "      <td>6800</td>\n",
       "      <td>14930</td>\n",
       "      <td>00</td>\n",
       "    </tr>\n",
       "  </tbody>\n",
       "</table>\n",
       "<p>137163 rows × 7 columns</p>\n",
       "</div>"
      ],
      "text/plain": [
       "       SICK_SYM1  MDCARE_DD_CNT  VSHSP_DD_CNT  TOT_PRSC_DD_CNT  EDC_SBA  \\\n",
       "0           L028              1             1                3     3000   \n",
       "1           J030              1             1                2     4950   \n",
       "2           J030              3             3                3     9000   \n",
       "3           K291              1             1                3     3000   \n",
       "4           M545              1             1                0     3000   \n",
       "...          ...            ...           ...              ...      ...   \n",
       "137158      J209              2             1                0     2300   \n",
       "137159      J209              2             1                0     3700   \n",
       "137160      J209              2             1                0     2800   \n",
       "137161      J209              2             1                0     2600   \n",
       "137162       J00              3             1                0     6800   \n",
       "\n",
       "        EDC_INSUR_BRDN_AMT SICK_SYM1_int  \n",
       "0                     7590           028  \n",
       "1                    11570           030  \n",
       "2                    18620           030  \n",
       "3                     9920           291  \n",
       "4                    11230           545  \n",
       "...                    ...           ...  \n",
       "137158                8980           209  \n",
       "137159               15940           209  \n",
       "137160               10670           209  \n",
       "137161               10930           209  \n",
       "137162               14930            00  \n",
       "\n",
       "[137163 rows x 7 columns]"
      ]
     },
     "execution_count": 65,
     "metadata": {},
     "output_type": "execute_result"
    }
   ],
   "source": [
    "def int (cell) :\n",
    "    result = \"\"\n",
    "    return result\n",
    "df_NBM_extract['SICK_SYM1_int'] = df_NBM_extract['SICK_SYM1'].str.replace(r'^[a-zA-Z]', int)\n",
    "df_NBM_extract"
   ]
  },
  {
   "cell_type": "markdown",
   "id": "bbc3de45-2804-4868-8ffb-b78a6635dc89",
   "metadata": {},
   "source": [
    "#### 정형화"
   ]
  },
  {
   "cell_type": "code",
   "execution_count": null,
   "id": "04b5141c-d706-48c2-a2db-6f47d12efb2e",
   "metadata": {},
   "outputs": [],
   "source": [
    "df_NBM_extract_preprocess['']"
   ]
  }
 ],
 "metadata": {
  "kernelspec": {
   "display_name": "Python 3 (ipykernel)",
   "language": "python",
   "name": "python3"
  },
  "language_info": {
   "codemirror_mode": {
    "name": "ipython",
    "version": 3
   },
   "file_extension": ".py",
   "mimetype": "text/x-python",
   "name": "python",
   "nbconvert_exporter": "python",
   "pygments_lexer": "ipython3",
   "version": "3.11.3"
  }
 },
 "nbformat": 4,
 "nbformat_minor": 5
}
