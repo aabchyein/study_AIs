{
 "cells": [
  {
   "cell_type": "markdown",
   "id": "6c331d0e-f7be-484d-b2e5-066371c1d20b",
   "metadata": {},
   "source": [
    "### Quest\n",
    "- BreastCancerWisconsinDataSet.csv 연속형 데이터 사용\n",
    "- 목표변수(diagnosis), 설명변수(*_mean이 아닌 것 선택 3개)\n",
    "- diagnosis 전처리 : apply() 이용<M-0, B-1>\n",
    "    * 컴퓨터가 이해할 수 있는 이진으로 넣어주기 위해서 전처리 해줌\n",
    "- Logistic regression 학습, 평가, 서비스(pickle)"
   ]
  },
  {
   "cell_type": "code",
   "execution_count": null,
   "id": "d9100309-391d-4d69-8fdd-54f716a48fff",
   "metadata": {},
   "outputs": [],
   "source": []
  }
 ],
 "metadata": {
  "kernelspec": {
   "display_name": "Python 3 (ipykernel)",
   "language": "python",
   "name": "python3"
  },
  "language_info": {
   "codemirror_mode": {
    "name": "ipython",
    "version": 3
   },
   "file_extension": ".py",
   "mimetype": "text/x-python",
   "name": "python",
   "nbconvert_exporter": "python",
   "pygments_lexer": "ipython3",
   "version": "3.11.3"
  }
 },
 "nbformat": 4,
 "nbformat_minor": 5
}
