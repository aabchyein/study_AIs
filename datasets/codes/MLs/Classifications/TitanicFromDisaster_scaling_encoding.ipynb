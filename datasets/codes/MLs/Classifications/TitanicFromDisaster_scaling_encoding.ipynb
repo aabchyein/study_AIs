{
 "cells": [
  {
   "cell_type": "markdown",
   "id": "ed19223a-32d2-4600-b79a-a37f6027dee3",
   "metadata": {},
   "source": [
    "### 지도학습"
   ]
  },
  {
   "cell_type": "markdown",
   "id": "5c75a8f6-dd40-4a92-a67e-bde4ee6ba843",
   "metadata": {},
   "source": [
    "#### 분류 - 이진분류\n",
    "- 목표변수가 2개 항목인 것\n",
    "- 목표변수 : Survived"
   ]
  },
  {
   "cell_type": "code",
   "execution_count": 1,
   "id": "08695fc0-b601-4e2f-94b9-db151ac246f7",
   "metadata": {
    "tags": []
   },
   "outputs": [],
   "source": [
    "import pandas as pd"
   ]
  },
  {
   "cell_type": "code",
   "execution_count": 2,
   "id": "e339f63a-ef60-465a-8fee-19d2456fa8f0",
   "metadata": {
    "tags": []
   },
   "outputs": [
    {
     "data": {
      "text/html": [
       "<div>\n",
       "<style scoped>\n",
       "    .dataframe tbody tr th:only-of-type {\n",
       "        vertical-align: middle;\n",
       "    }\n",
       "\n",
       "    .dataframe tbody tr th {\n",
       "        vertical-align: top;\n",
       "    }\n",
       "\n",
       "    .dataframe thead th {\n",
       "        text-align: right;\n",
       "    }\n",
       "</style>\n",
       "<table border=\"1\" class=\"dataframe\">\n",
       "  <thead>\n",
       "    <tr style=\"text-align: right;\">\n",
       "      <th></th>\n",
       "      <th>PassengerId</th>\n",
       "      <th>Survived</th>\n",
       "      <th>Pclass</th>\n",
       "      <th>Name</th>\n",
       "      <th>Sex</th>\n",
       "      <th>Age</th>\n",
       "      <th>SibSp</th>\n",
       "      <th>Parch</th>\n",
       "      <th>Ticket</th>\n",
       "      <th>Fare</th>\n",
       "      <th>Cabin</th>\n",
       "      <th>Embarked</th>\n",
       "    </tr>\n",
       "  </thead>\n",
       "  <tbody>\n",
       "    <tr>\n",
       "      <th>0</th>\n",
       "      <td>1</td>\n",
       "      <td>0</td>\n",
       "      <td>3</td>\n",
       "      <td>Braund, Mr. Owen Harris</td>\n",
       "      <td>male</td>\n",
       "      <td>22.0</td>\n",
       "      <td>1</td>\n",
       "      <td>0</td>\n",
       "      <td>A/5 21171</td>\n",
       "      <td>7.2500</td>\n",
       "      <td>NaN</td>\n",
       "      <td>S</td>\n",
       "    </tr>\n",
       "    <tr>\n",
       "      <th>1</th>\n",
       "      <td>2</td>\n",
       "      <td>1</td>\n",
       "      <td>1</td>\n",
       "      <td>Cumings, Mrs. John Bradley (Florence Briggs Th...</td>\n",
       "      <td>female</td>\n",
       "      <td>38.0</td>\n",
       "      <td>1</td>\n",
       "      <td>0</td>\n",
       "      <td>PC 17599</td>\n",
       "      <td>71.2833</td>\n",
       "      <td>C85</td>\n",
       "      <td>C</td>\n",
       "    </tr>\n",
       "  </tbody>\n",
       "</table>\n",
       "</div>"
      ],
      "text/plain": [
       "   PassengerId  Survived  Pclass  \\\n",
       "0            1         0       3   \n",
       "1            2         1       1   \n",
       "\n",
       "                                                Name     Sex   Age  SibSp  \\\n",
       "0                            Braund, Mr. Owen Harris    male  22.0      1   \n",
       "1  Cumings, Mrs. John Bradley (Florence Briggs Th...  female  38.0      1   \n",
       "\n",
       "   Parch     Ticket     Fare Cabin Embarked  \n",
       "0      0  A/5 21171   7.2500   NaN        S  \n",
       "1      0   PC 17599  71.2833   C85        C  "
      ]
     },
     "execution_count": 2,
     "metadata": {},
     "output_type": "execute_result"
    }
   ],
   "source": [
    "df_TFD = pd.read_csv('../../../datasets/TitanicFromDisaster_train.csv')\n",
    "df_TFD[:2]"
   ]
  },
  {
   "cell_type": "markdown",
   "id": "dc7bc1b4-47ea-418b-9bbf-aaf0db653a1c",
   "metadata": {},
   "source": [
    "#### 전처리"
   ]
  },
  {
   "cell_type": "code",
   "execution_count": 3,
   "id": "2d18b841-3673-4458-9aa1-fadb8db13fd8",
   "metadata": {
    "tags": []
   },
   "outputs": [
    {
     "data": {
      "text/plain": [
       "Index(['PassengerId', 'Survived', 'Pclass', 'Name', 'Sex', 'Age', 'SibSp',\n",
       "       'Parch', 'Ticket', 'Fare', 'Cabin', 'Embarked'],\n",
       "      dtype='object')"
      ]
     },
     "execution_count": 3,
     "metadata": {},
     "output_type": "execute_result"
    }
   ],
   "source": [
    "df_TFD.columns"
   ]
  },
  {
   "cell_type": "code",
   "execution_count": 4,
   "id": "297db4e7-a213-453c-ba2a-8403968c1b5f",
   "metadata": {
    "tags": []
   },
   "outputs": [
    {
     "data": {
      "text/plain": [
       "Survived      0\n",
       "Pclass        0\n",
       "Age         177\n",
       "dtype: int64"
      ]
     },
     "execution_count": 4,
     "metadata": {},
     "output_type": "execute_result"
    }
   ],
   "source": [
    "df_TFD_extract = df_TFD[['Survived', 'Pclass', 'Age']]\n",
    "df_TFD_extract.isnull().sum()"
   ]
  },
  {
   "cell_type": "code",
   "execution_count": 5,
   "id": "857e26e2-eb9c-4bf0-bbd5-bcbb07c6dfda",
   "metadata": {
    "tags": []
   },
   "outputs": [
    {
     "data": {
      "text/html": [
       "<div>\n",
       "<style scoped>\n",
       "    .dataframe tbody tr th:only-of-type {\n",
       "        vertical-align: middle;\n",
       "    }\n",
       "\n",
       "    .dataframe tbody tr th {\n",
       "        vertical-align: top;\n",
       "    }\n",
       "\n",
       "    .dataframe thead th {\n",
       "        text-align: right;\n",
       "    }\n",
       "</style>\n",
       "<table border=\"1\" class=\"dataframe\">\n",
       "  <thead>\n",
       "    <tr style=\"text-align: right;\">\n",
       "      <th></th>\n",
       "      <th>Survived</th>\n",
       "      <th>Pclass</th>\n",
       "      <th>Age</th>\n",
       "    </tr>\n",
       "  </thead>\n",
       "  <tbody>\n",
       "    <tr>\n",
       "      <th>0</th>\n",
       "      <td>0</td>\n",
       "      <td>3</td>\n",
       "      <td>22.0</td>\n",
       "    </tr>\n",
       "    <tr>\n",
       "      <th>1</th>\n",
       "      <td>1</td>\n",
       "      <td>1</td>\n",
       "      <td>38.0</td>\n",
       "    </tr>\n",
       "  </tbody>\n",
       "</table>\n",
       "</div>"
      ],
      "text/plain": [
       "   Survived  Pclass   Age\n",
       "0         0       3  22.0\n",
       "1         1       1  38.0"
      ]
     },
     "execution_count": 5,
     "metadata": {},
     "output_type": "execute_result"
    }
   ],
   "source": [
    "# age null값 존재 -> regression으로 null값을 채울 수 있음. 여기선 drop함\n",
    "df_TFD_extract_preprocess = df_TFD_extract.dropna()\n",
    "df_TFD_extract_preprocess[:2]"
   ]
  },
  {
   "cell_type": "markdown",
   "id": "115fe805-a64d-4015-b731-04429d854b9b",
   "metadata": {},
   "source": [
    "#### Scaling & Encoding"
   ]
  },
  {
   "cell_type": "markdown",
   "id": "6b905248-93a8-4a28-a743-e0196aa397da",
   "metadata": {},
   "source": [
    "##### Encoding with OneHotEncoding\n",
    "- 범주형 데이터가 존재할 경우 이를 수치화(벡터화)하는 대표적인 방법"
   ]
  },
  {
   "cell_type": "code",
   "execution_count": 6,
   "id": "0ed84351-d0b1-4453-9eef-6a80bd6ddec8",
   "metadata": {
    "tags": []
   },
   "outputs": [
    {
     "data": {
      "text/plain": [
       "3    355\n",
       "1    186\n",
       "2    173\n",
       "Name: Pclass, dtype: int64"
      ]
     },
     "execution_count": 6,
     "metadata": {},
     "output_type": "execute_result"
    }
   ],
   "source": [
    "# 범주형 'Pclass' 확인\n",
    "df_TFD_extract_preprocess['Pclass'].value_counts()"
   ]
  },
  {
   "cell_type": "code",
   "execution_count": 7,
   "id": "1402c392-00a0-45e6-88a4-9f5a865f7933",
   "metadata": {
    "tags": []
   },
   "outputs": [],
   "source": [
    "from sklearn.preprocessing import OneHotEncoder"
   ]
  },
  {
   "cell_type": "code",
   "execution_count": 8,
   "id": "b0cc5fd6-42ed-45fc-92f2-81ba055143a2",
   "metadata": {
    "tags": []
   },
   "outputs": [
    {
     "data": {
      "text/html": [
       "<style>#sk-container-id-1 {color: black;background-color: white;}#sk-container-id-1 pre{padding: 0;}#sk-container-id-1 div.sk-toggleable {background-color: white;}#sk-container-id-1 label.sk-toggleable__label {cursor: pointer;display: block;width: 100%;margin-bottom: 0;padding: 0.3em;box-sizing: border-box;text-align: center;}#sk-container-id-1 label.sk-toggleable__label-arrow:before {content: \"▸\";float: left;margin-right: 0.25em;color: #696969;}#sk-container-id-1 label.sk-toggleable__label-arrow:hover:before {color: black;}#sk-container-id-1 div.sk-estimator:hover label.sk-toggleable__label-arrow:before {color: black;}#sk-container-id-1 div.sk-toggleable__content {max-height: 0;max-width: 0;overflow: hidden;text-align: left;background-color: #f0f8ff;}#sk-container-id-1 div.sk-toggleable__content pre {margin: 0.2em;color: black;border-radius: 0.25em;background-color: #f0f8ff;}#sk-container-id-1 input.sk-toggleable__control:checked~div.sk-toggleable__content {max-height: 200px;max-width: 100%;overflow: auto;}#sk-container-id-1 input.sk-toggleable__control:checked~label.sk-toggleable__label-arrow:before {content: \"▾\";}#sk-container-id-1 div.sk-estimator input.sk-toggleable__control:checked~label.sk-toggleable__label {background-color: #d4ebff;}#sk-container-id-1 div.sk-label input.sk-toggleable__control:checked~label.sk-toggleable__label {background-color: #d4ebff;}#sk-container-id-1 input.sk-hidden--visually {border: 0;clip: rect(1px 1px 1px 1px);clip: rect(1px, 1px, 1px, 1px);height: 1px;margin: -1px;overflow: hidden;padding: 0;position: absolute;width: 1px;}#sk-container-id-1 div.sk-estimator {font-family: monospace;background-color: #f0f8ff;border: 1px dotted black;border-radius: 0.25em;box-sizing: border-box;margin-bottom: 0.5em;}#sk-container-id-1 div.sk-estimator:hover {background-color: #d4ebff;}#sk-container-id-1 div.sk-parallel-item::after {content: \"\";width: 100%;border-bottom: 1px solid gray;flex-grow: 1;}#sk-container-id-1 div.sk-label:hover label.sk-toggleable__label {background-color: #d4ebff;}#sk-container-id-1 div.sk-serial::before {content: \"\";position: absolute;border-left: 1px solid gray;box-sizing: border-box;top: 0;bottom: 0;left: 50%;z-index: 0;}#sk-container-id-1 div.sk-serial {display: flex;flex-direction: column;align-items: center;background-color: white;padding-right: 0.2em;padding-left: 0.2em;position: relative;}#sk-container-id-1 div.sk-item {position: relative;z-index: 1;}#sk-container-id-1 div.sk-parallel {display: flex;align-items: stretch;justify-content: center;background-color: white;position: relative;}#sk-container-id-1 div.sk-item::before, #sk-container-id-1 div.sk-parallel-item::before {content: \"\";position: absolute;border-left: 1px solid gray;box-sizing: border-box;top: 0;bottom: 0;left: 50%;z-index: -1;}#sk-container-id-1 div.sk-parallel-item {display: flex;flex-direction: column;z-index: 1;position: relative;background-color: white;}#sk-container-id-1 div.sk-parallel-item:first-child::after {align-self: flex-end;width: 50%;}#sk-container-id-1 div.sk-parallel-item:last-child::after {align-self: flex-start;width: 50%;}#sk-container-id-1 div.sk-parallel-item:only-child::after {width: 0;}#sk-container-id-1 div.sk-dashed-wrapped {border: 1px dashed gray;margin: 0 0.4em 0.5em 0.4em;box-sizing: border-box;padding-bottom: 0.4em;background-color: white;}#sk-container-id-1 div.sk-label label {font-family: monospace;font-weight: bold;display: inline-block;line-height: 1.2em;}#sk-container-id-1 div.sk-label-container {text-align: center;}#sk-container-id-1 div.sk-container {/* jupyter's `normalize.less` sets `[hidden] { display: none; }` but bootstrap.min.css set `[hidden] { display: none !important; }` so we also need the `!important` here to be able to override the default hidden behavior on the sphinx rendered scikit-learn.org. See: https://github.com/scikit-learn/scikit-learn/issues/21755 */display: inline-block !important;position: relative;}#sk-container-id-1 div.sk-text-repr-fallback {display: none;}</style><div id=\"sk-container-id-1\" class=\"sk-top-container\"><div class=\"sk-text-repr-fallback\"><pre>OneHotEncoder()</pre><b>In a Jupyter environment, please rerun this cell to show the HTML representation or trust the notebook. <br />On GitHub, the HTML representation is unable to render, please try loading this page with nbviewer.org.</b></div><div class=\"sk-container\" hidden><div class=\"sk-item\"><div class=\"sk-estimator sk-toggleable\"><input class=\"sk-toggleable__control sk-hidden--visually\" id=\"sk-estimator-id-1\" type=\"checkbox\" checked><label for=\"sk-estimator-id-1\" class=\"sk-toggleable__label sk-toggleable__label-arrow\">OneHotEncoder</label><div class=\"sk-toggleable__content\"><pre>OneHotEncoder()</pre></div></div></div></div></div>"
      ],
      "text/plain": [
       "OneHotEncoder()"
      ]
     },
     "execution_count": 8,
     "metadata": {},
     "output_type": "execute_result"
    }
   ],
   "source": [
    "oneHotEncoder = OneHotEncoder()   #인스턴스화\n",
    "oneHotEncoder.fit(df_TFD_extract_preprocess[['Pclass']])   #'Pclass'를 기준으로 교육시킴, 해당 항목을 학습한 것"
   ]
  },
  {
   "cell_type": "code",
   "execution_count": 9,
   "id": "d79ae7db-f9a1-403f-b213-1313a983a677",
   "metadata": {
    "tags": []
   },
   "outputs": [
    {
     "data": {
      "text/plain": [
       "[array([1, 2, 3], dtype=int64)]"
      ]
     },
     "execution_count": 9,
     "metadata": {},
     "output_type": "execute_result"
    }
   ],
   "source": [
    "columns_name = oneHotEncoder.categories_   # value_counts()로 학인했던 범주형(1-3등급)의 항목을 1,2,3으로 부여함\n",
    "columns_name"
   ]
  },
  {
   "cell_type": "code",
   "execution_count": 10,
   "id": "08aab3d8-30f7-4c9d-b3f4-684e1fd96cc8",
   "metadata": {
    "tags": []
   },
   "outputs": [
    {
     "data": {
      "text/plain": [
       "(714, 3)"
      ]
     },
     "execution_count": 10,
     "metadata": {},
     "output_type": "execute_result"
    }
   ],
   "source": [
    "encoded_data = oneHotEncoder.transform(df_TFD_extract_preprocess[['Pclass']]).toarray()\n",
    "encoded_data.shape"
   ]
  },
  {
   "cell_type": "code",
   "execution_count": 11,
   "id": "fd240acd-d279-494c-a208-d9169992799f",
   "metadata": {
    "tags": []
   },
   "outputs": [
    {
     "data": {
      "text/html": [
       "<div>\n",
       "<style scoped>\n",
       "    .dataframe tbody tr th:only-of-type {\n",
       "        vertical-align: middle;\n",
       "    }\n",
       "\n",
       "    .dataframe tbody tr th {\n",
       "        vertical-align: top;\n",
       "    }\n",
       "\n",
       "    .dataframe thead th {\n",
       "        text-align: right;\n",
       "    }\n",
       "</style>\n",
       "<table border=\"1\" class=\"dataframe\">\n",
       "  <thead>\n",
       "    <tr style=\"text-align: right;\">\n",
       "      <th></th>\n",
       "      <th>Pclass_1</th>\n",
       "      <th>Pclass_2</th>\n",
       "      <th>Pclass_3</th>\n",
       "    </tr>\n",
       "  </thead>\n",
       "  <tbody>\n",
       "    <tr>\n",
       "      <th>0</th>\n",
       "      <td>0.0</td>\n",
       "      <td>0.0</td>\n",
       "      <td>1.0</td>\n",
       "    </tr>\n",
       "    <tr>\n",
       "      <th>1</th>\n",
       "      <td>1.0</td>\n",
       "      <td>0.0</td>\n",
       "      <td>0.0</td>\n",
       "    </tr>\n",
       "  </tbody>\n",
       "</table>\n",
       "</div>"
      ],
      "text/plain": [
       "   Pclass_1  Pclass_2  Pclass_3\n",
       "0       0.0       0.0       1.0\n",
       "1       1.0       0.0       0.0"
      ]
     },
     "execution_count": 11,
     "metadata": {},
     "output_type": "execute_result"
    }
   ],
   "source": [
    "# columns_name, encoded_data를 사용해 dataframe을 만들기\n",
    "# 병합을 위해서 numpy array를 dataframe으로 바꿔줌\n",
    "df_encoded_data = pd.DataFrame(data=encoded_data, columns=oneHotEncoder.get_feature_names_out(['Pclass']))\n",
    "df_encoded_data[:2]"
   ]
  },
  {
   "cell_type": "code",
   "execution_count": 12,
   "id": "2c980284-def2-4c7c-906b-f693936ba56f",
   "metadata": {
    "tags": []
   },
   "outputs": [
    {
     "data": {
      "text/html": [
       "<div>\n",
       "<style scoped>\n",
       "    .dataframe tbody tr th:only-of-type {\n",
       "        vertical-align: middle;\n",
       "    }\n",
       "\n",
       "    .dataframe tbody tr th {\n",
       "        vertical-align: top;\n",
       "    }\n",
       "\n",
       "    .dataframe thead th {\n",
       "        text-align: right;\n",
       "    }\n",
       "</style>\n",
       "<table border=\"1\" class=\"dataframe\">\n",
       "  <thead>\n",
       "    <tr style=\"text-align: right;\">\n",
       "      <th></th>\n",
       "      <th>Pclass</th>\n",
       "    </tr>\n",
       "  </thead>\n",
       "  <tbody>\n",
       "    <tr>\n",
       "      <th>0</th>\n",
       "      <td>3</td>\n",
       "    </tr>\n",
       "    <tr>\n",
       "      <th>1</th>\n",
       "      <td>1</td>\n",
       "    </tr>\n",
       "    <tr>\n",
       "      <th>2</th>\n",
       "      <td>3</td>\n",
       "    </tr>\n",
       "  </tbody>\n",
       "</table>\n",
       "</div>"
      ],
      "text/plain": [
       "   Pclass\n",
       "0       3\n",
       "1       1\n",
       "2       3"
      ]
     },
     "execution_count": 12,
     "metadata": {},
     "output_type": "execute_result"
    }
   ],
   "source": [
    "df_TFD_extract_preprocess[['Pclass']][:3]\n",
    "\n",
    "# 위의 결과와 동일하게 나옴\n",
    "# [0., 0., 1.], 3등급이므로 자신이 해당하는 세번째만 1로 표시됨.\n",
    "# [1., 0., 0.], 1등급이므로 자신이 해당하는 첫번째만 1로 표시됨.\n",
    "# [0., 0., 1.], 3등급이므로 자신이 해당하는 세번째만 1로 표시됨."
   ]
  },
  {
   "cell_type": "code",
   "execution_count": 13,
   "id": "03ccf95b-7fd0-4ff2-989e-eb2c65451b57",
   "metadata": {
    "tags": []
   },
   "outputs": [
    {
     "data": {
      "text/plain": [
       "(RangeIndex(start=0, stop=714, step=1), (714, 3))"
      ]
     },
     "execution_count": 13,
     "metadata": {},
     "output_type": "execute_result"
    }
   ],
   "source": [
    "df_encoded_data.index, df_encoded_data.shape"
   ]
  },
  {
   "cell_type": "code",
   "execution_count": 14,
   "id": "b3ad15a2-4143-4eda-b46b-044f81161099",
   "metadata": {
    "tags": []
   },
   "outputs": [
    {
     "data": {
      "text/plain": [
       "Survived    0\n",
       "Pclass      0\n",
       "Age         0\n",
       "dtype: int64"
      ]
     },
     "execution_count": 14,
     "metadata": {},
     "output_type": "execute_result"
    }
   ],
   "source": [
    "df_TFD_extract_preprocess.isnull().sum()"
   ]
  },
  {
   "cell_type": "code",
   "execution_count": 15,
   "id": "4838e42b-deb3-4f29-b6c5-958819bcbfc4",
   "metadata": {
    "tags": []
   },
   "outputs": [],
   "source": [
    "# df_encoded_data = pd.get_dummies(df_TFD_extract_preprocess['Pclass'], prefix='Pclass')\n",
    "## prefix='Pclass' -> 모든 column 이름 앞에 고정적으로 붙음"
   ]
  },
  {
   "cell_type": "code",
   "execution_count": 16,
   "id": "21424f25-6d73-475e-8e09-588e96519224",
   "metadata": {
    "tags": []
   },
   "outputs": [
    {
     "data": {
      "text/html": [
       "<div>\n",
       "<style scoped>\n",
       "    .dataframe tbody tr th:only-of-type {\n",
       "        vertical-align: middle;\n",
       "    }\n",
       "\n",
       "    .dataframe tbody tr th {\n",
       "        vertical-align: top;\n",
       "    }\n",
       "\n",
       "    .dataframe thead th {\n",
       "        text-align: right;\n",
       "    }\n",
       "</style>\n",
       "<table border=\"1\" class=\"dataframe\">\n",
       "  <thead>\n",
       "    <tr style=\"text-align: right;\">\n",
       "      <th></th>\n",
       "      <th>Survived</th>\n",
       "      <th>Pclass</th>\n",
       "      <th>Age</th>\n",
       "      <th>Pclass_1</th>\n",
       "      <th>Pclass_2</th>\n",
       "      <th>Pclass_3</th>\n",
       "    </tr>\n",
       "  </thead>\n",
       "  <tbody>\n",
       "    <tr>\n",
       "      <th>0</th>\n",
       "      <td>0</td>\n",
       "      <td>3</td>\n",
       "      <td>22.0</td>\n",
       "      <td>0.0</td>\n",
       "      <td>0.0</td>\n",
       "      <td>1.0</td>\n",
       "    </tr>\n",
       "    <tr>\n",
       "      <th>1</th>\n",
       "      <td>1</td>\n",
       "      <td>1</td>\n",
       "      <td>38.0</td>\n",
       "      <td>1.0</td>\n",
       "      <td>0.0</td>\n",
       "      <td>0.0</td>\n",
       "    </tr>\n",
       "  </tbody>\n",
       "</table>\n",
       "</div>"
      ],
      "text/plain": [
       "   Survived  Pclass   Age  Pclass_1  Pclass_2  Pclass_3\n",
       "0         0       3  22.0       0.0       0.0       1.0\n",
       "1         1       1  38.0       1.0       0.0       0.0"
      ]
     },
     "execution_count": 16,
     "metadata": {},
     "output_type": "execute_result"
    }
   ],
   "source": [
    "# 원래 데이터에 다른 데이터 합치기\n",
    "# axis=1 : 행을 기준으로 옆으로 붙음\n",
    "df_TFD_extract_preprocess = pd.concat([df_TFD_extract_preprocess.reset_index(drop=True), df_encoded_data.reset_index(drop=True)], axis=1)\n",
    "df_TFD_extract_preprocess[:2]"
   ]
  },
  {
   "cell_type": "code",
   "execution_count": 17,
   "id": "8f338457-caac-42a9-bc85-08a9855d0f50",
   "metadata": {
    "tags": []
   },
   "outputs": [
    {
     "data": {
      "text/plain": [
       "(714, 6)"
      ]
     },
     "execution_count": 17,
     "metadata": {},
     "output_type": "execute_result"
    }
   ],
   "source": [
    "df_TFD_extract_preprocess.shape"
   ]
  },
  {
   "cell_type": "markdown",
   "id": "fd6670cc-4612-4ecf-9d2b-5558316c41cd",
   "metadata": {},
   "source": [
    "##### Scaling"
   ]
  },
  {
   "cell_type": "code",
   "execution_count": 18,
   "id": "9ce92e28-9a37-4c2d-802e-5cd565426040",
   "metadata": {
    "tags": []
   },
   "outputs": [
    {
     "data": {
      "text/plain": [
       "Index(['Survived', 'Pclass', 'Age', 'Pclass_1', 'Pclass_2', 'Pclass_3'], dtype='object')"
      ]
     },
     "execution_count": 18,
     "metadata": {},
     "output_type": "execute_result"
    }
   ],
   "source": [
    "df_TFD_extract_preprocess.columns"
   ]
  },
  {
   "cell_type": "code",
   "execution_count": 19,
   "id": "25e8f119-72cf-4eb3-99e0-e1c83818ae5b",
   "metadata": {
    "tags": []
   },
   "outputs": [],
   "source": [
    "target = df_TFD_extract_preprocess['Survived']"
   ]
  },
  {
   "cell_type": "code",
   "execution_count": 20,
   "id": "880e8fb2-dafd-4881-82e0-4c08ad316c0a",
   "metadata": {
    "tags": []
   },
   "outputs": [],
   "source": [
    "features = df_TFD_extract_preprocess.drop(columns=['Survived', 'Pclass'])"
   ]
  },
  {
   "cell_type": "code",
   "execution_count": 21,
   "id": "62bd545a-8174-43be-83f8-7c88769e8bdf",
   "metadata": {
    "tags": []
   },
   "outputs": [
    {
     "data": {
      "text/plain": [
       "Index(['Age', 'Pclass_1', 'Pclass_2', 'Pclass_3'], dtype='object')"
      ]
     },
     "execution_count": 21,
     "metadata": {},
     "output_type": "execute_result"
    }
   ],
   "source": [
    "features.columns"
   ]
  },
  {
   "cell_type": "markdown",
   "id": "3a834c1b-e2b8-4103-9747-be457c4d6b78",
   "metadata": {},
   "source": [
    "##### -MinMaxScaler(정규화)\n",
    "- 모든 값을 0~1 사이의 값으로 바꾸는 것"
   ]
  },
  {
   "cell_type": "code",
   "execution_count": 22,
   "id": "9850955d-920a-4f1b-a07b-08d54af21203",
   "metadata": {},
   "outputs": [],
   "source": [
    "from sklearn.preprocessing import MinMaxScaler"
   ]
  },
  {
   "cell_type": "code",
   "execution_count": 23,
   "id": "2467e5ac-da53-44b0-b582-7c521fa14b3f",
   "metadata": {
    "tags": []
   },
   "outputs": [
    {
     "data": {
      "text/plain": [
       "(714, 4)"
      ]
     },
     "execution_count": 23,
     "metadata": {},
     "output_type": "execute_result"
    }
   ],
   "source": [
    "minMaxScaler = MinMaxScaler()   # 인스턴스화\n",
    "features = minMaxScaler.fit_transform(features)\n",
    "features.shape   # 714개의 row에 4개의 값이 들어감"
   ]
  },
  {
   "cell_type": "markdown",
   "id": "6aa0e44d-e358-44cc-960d-68aa2279f529",
   "metadata": {},
   "source": [
    "#### 정형화 단계\n",
    "- 데이터를 머신에 넣기 전 목표변수와 설명변수를 분리\n",
    "- 데이터 분할(Split)\n",
    "    * 머신러닝 모델을 훈련하고 성능을 측정할 때 훈련 데이터와 테스트 데이터 비율을 8:2로 설정한다.\n",
    "    * train_test_split() : 8:2 비율로 만들어주는 fuction\n",
    "    * 데이터가 500개 미만일 경우 split을 하는 것보다 데이터를 더 모으는 게 좋다."
   ]
  },
  {
   "cell_type": "code",
   "execution_count": 24,
   "id": "bf82863c-2a01-413b-8e79-fa5b8cda78ed",
   "metadata": {
    "tags": []
   },
   "outputs": [],
   "source": [
    "# split 하지 않은 정형화\n",
    "# target_train = df_TFD_extract_preprocess['Survived']\n",
    "# features_train = df_TFD_extract_preprocess[['Pclass', 'Age']]   # label(=feature)\n",
    "# target_train.shape, features_train.shape"
   ]
  },
  {
   "cell_type": "code",
   "execution_count": 25,
   "id": "9fa9bb05-5559-4324-85fc-db99641f4917",
   "metadata": {
    "tags": []
   },
   "outputs": [],
   "source": [
    "from sklearn.model_selection import train_test_split"
   ]
  },
  {
   "cell_type": "code",
   "execution_count": 26,
   "id": "2c9e5ba6-a1c9-45a9-8977-2f71e3f9f52c",
   "metadata": {
    "tags": []
   },
   "outputs": [
    {
     "data": {
      "text/plain": [
       "((535, 4), (535,), (179, 4), (179,))"
      ]
     },
     "execution_count": 26,
     "metadata": {},
     "output_type": "execute_result"
    }
   ],
   "source": [
    "features_train, features_test, target_train, target_test = train_test_split(features, target, random_state=111)\n",
    "features_train.shape, target_train.shape, features_test.shape, target_test.shape"
   ]
  },
  {
   "cell_type": "markdown",
   "id": "617c3d59-fdb6-4ad4-9130-43f0b2360abd",
   "metadata": {},
   "source": [
    "#### 모델학습"
   ]
  },
  {
   "cell_type": "code",
   "execution_count": 27,
   "id": "2b8e34c5-bd64-43e1-a308-ccd91959d1ac",
   "metadata": {
    "tags": []
   },
   "outputs": [
    {
     "data": {
      "text/html": [
       "<style>#sk-container-id-2 {color: black;background-color: white;}#sk-container-id-2 pre{padding: 0;}#sk-container-id-2 div.sk-toggleable {background-color: white;}#sk-container-id-2 label.sk-toggleable__label {cursor: pointer;display: block;width: 100%;margin-bottom: 0;padding: 0.3em;box-sizing: border-box;text-align: center;}#sk-container-id-2 label.sk-toggleable__label-arrow:before {content: \"▸\";float: left;margin-right: 0.25em;color: #696969;}#sk-container-id-2 label.sk-toggleable__label-arrow:hover:before {color: black;}#sk-container-id-2 div.sk-estimator:hover label.sk-toggleable__label-arrow:before {color: black;}#sk-container-id-2 div.sk-toggleable__content {max-height: 0;max-width: 0;overflow: hidden;text-align: left;background-color: #f0f8ff;}#sk-container-id-2 div.sk-toggleable__content pre {margin: 0.2em;color: black;border-radius: 0.25em;background-color: #f0f8ff;}#sk-container-id-2 input.sk-toggleable__control:checked~div.sk-toggleable__content {max-height: 200px;max-width: 100%;overflow: auto;}#sk-container-id-2 input.sk-toggleable__control:checked~label.sk-toggleable__label-arrow:before {content: \"▾\";}#sk-container-id-2 div.sk-estimator input.sk-toggleable__control:checked~label.sk-toggleable__label {background-color: #d4ebff;}#sk-container-id-2 div.sk-label input.sk-toggleable__control:checked~label.sk-toggleable__label {background-color: #d4ebff;}#sk-container-id-2 input.sk-hidden--visually {border: 0;clip: rect(1px 1px 1px 1px);clip: rect(1px, 1px, 1px, 1px);height: 1px;margin: -1px;overflow: hidden;padding: 0;position: absolute;width: 1px;}#sk-container-id-2 div.sk-estimator {font-family: monospace;background-color: #f0f8ff;border: 1px dotted black;border-radius: 0.25em;box-sizing: border-box;margin-bottom: 0.5em;}#sk-container-id-2 div.sk-estimator:hover {background-color: #d4ebff;}#sk-container-id-2 div.sk-parallel-item::after {content: \"\";width: 100%;border-bottom: 1px solid gray;flex-grow: 1;}#sk-container-id-2 div.sk-label:hover label.sk-toggleable__label {background-color: #d4ebff;}#sk-container-id-2 div.sk-serial::before {content: \"\";position: absolute;border-left: 1px solid gray;box-sizing: border-box;top: 0;bottom: 0;left: 50%;z-index: 0;}#sk-container-id-2 div.sk-serial {display: flex;flex-direction: column;align-items: center;background-color: white;padding-right: 0.2em;padding-left: 0.2em;position: relative;}#sk-container-id-2 div.sk-item {position: relative;z-index: 1;}#sk-container-id-2 div.sk-parallel {display: flex;align-items: stretch;justify-content: center;background-color: white;position: relative;}#sk-container-id-2 div.sk-item::before, #sk-container-id-2 div.sk-parallel-item::before {content: \"\";position: absolute;border-left: 1px solid gray;box-sizing: border-box;top: 0;bottom: 0;left: 50%;z-index: -1;}#sk-container-id-2 div.sk-parallel-item {display: flex;flex-direction: column;z-index: 1;position: relative;background-color: white;}#sk-container-id-2 div.sk-parallel-item:first-child::after {align-self: flex-end;width: 50%;}#sk-container-id-2 div.sk-parallel-item:last-child::after {align-self: flex-start;width: 50%;}#sk-container-id-2 div.sk-parallel-item:only-child::after {width: 0;}#sk-container-id-2 div.sk-dashed-wrapped {border: 1px dashed gray;margin: 0 0.4em 0.5em 0.4em;box-sizing: border-box;padding-bottom: 0.4em;background-color: white;}#sk-container-id-2 div.sk-label label {font-family: monospace;font-weight: bold;display: inline-block;line-height: 1.2em;}#sk-container-id-2 div.sk-label-container {text-align: center;}#sk-container-id-2 div.sk-container {/* jupyter's `normalize.less` sets `[hidden] { display: none; }` but bootstrap.min.css set `[hidden] { display: none !important; }` so we also need the `!important` here to be able to override the default hidden behavior on the sphinx rendered scikit-learn.org. See: https://github.com/scikit-learn/scikit-learn/issues/21755 */display: inline-block !important;position: relative;}#sk-container-id-2 div.sk-text-repr-fallback {display: none;}</style><div id=\"sk-container-id-2\" class=\"sk-top-container\"><div class=\"sk-text-repr-fallback\"><pre>LogisticRegression()</pre><b>In a Jupyter environment, please rerun this cell to show the HTML representation or trust the notebook. <br />On GitHub, the HTML representation is unable to render, please try loading this page with nbviewer.org.</b></div><div class=\"sk-container\" hidden><div class=\"sk-item\"><div class=\"sk-estimator sk-toggleable\"><input class=\"sk-toggleable__control sk-hidden--visually\" id=\"sk-estimator-id-2\" type=\"checkbox\" checked><label for=\"sk-estimator-id-2\" class=\"sk-toggleable__label sk-toggleable__label-arrow\">LogisticRegression</label><div class=\"sk-toggleable__content\"><pre>LogisticRegression()</pre></div></div></div></div></div>"
      ],
      "text/plain": [
       "LogisticRegression()"
      ]
     },
     "execution_count": 27,
     "metadata": {},
     "output_type": "execute_result"
    }
   ],
   "source": [
    "from sklearn.linear_model import LogisticRegression\n",
    "model = LogisticRegression()  # 인스턴스화\n",
    "model.fit(features_train, target_train)  # 모델 훈련은 fit() fuction을 이용함 -> fit(feature, target)"
   ]
  },
  {
   "cell_type": "code",
   "execution_count": 28,
   "id": "44f784d0-f564-4b8b-8033-ca357cce06f4",
   "metadata": {
    "tags": []
   },
   "outputs": [
    {
     "data": {
      "text/plain": [
       "(array([[-2.59255724,  1.11141847,  0.02997489, -1.14146766]]),\n",
       " array([0.86447724]))"
      ]
     },
     "execution_count": 28,
     "metadata": {},
     "output_type": "execute_result"
    }
   ],
   "source": [
    "model.coef_, model.intercept_\n",
    "# 정규화 이전값 : (array([[-1.257039902, -0.04521969]]), array([3.78621796]))"
   ]
  },
  {
   "cell_type": "markdown",
   "id": "361c2d89-f9ad-4c1a-a75a-d359c771a5ab",
   "metadata": {
    "tags": []
   },
   "source": [
    "#### 예측"
   ]
  },
  {
   "cell_type": "code",
   "execution_count": 29,
   "id": "108ba900-9fac-4537-8d61-be0f6d5e9cff",
   "metadata": {
    "tags": []
   },
   "outputs": [
    {
     "data": {
      "text/html": [
       "<div>\n",
       "<style scoped>\n",
       "    .dataframe tbody tr th:only-of-type {\n",
       "        vertical-align: middle;\n",
       "    }\n",
       "\n",
       "    .dataframe tbody tr th {\n",
       "        vertical-align: top;\n",
       "    }\n",
       "\n",
       "    .dataframe thead th {\n",
       "        text-align: right;\n",
       "    }\n",
       "</style>\n",
       "<table border=\"1\" class=\"dataframe\">\n",
       "  <thead>\n",
       "    <tr style=\"text-align: right;\">\n",
       "      <th></th>\n",
       "      <th>Survived</th>\n",
       "      <th>Pclass</th>\n",
       "      <th>Age</th>\n",
       "      <th>Pclass_1</th>\n",
       "      <th>Pclass_2</th>\n",
       "      <th>Pclass_3</th>\n",
       "    </tr>\n",
       "  </thead>\n",
       "  <tbody>\n",
       "    <tr>\n",
       "      <th>10</th>\n",
       "      <td>1</td>\n",
       "      <td>1</td>\n",
       "      <td>58.0</td>\n",
       "      <td>1.0</td>\n",
       "      <td>0.0</td>\n",
       "      <td>0.0</td>\n",
       "    </tr>\n",
       "    <tr>\n",
       "      <th>11</th>\n",
       "      <td>0</td>\n",
       "      <td>3</td>\n",
       "      <td>20.0</td>\n",
       "      <td>0.0</td>\n",
       "      <td>0.0</td>\n",
       "      <td>1.0</td>\n",
       "    </tr>\n",
       "    <tr>\n",
       "      <th>12</th>\n",
       "      <td>0</td>\n",
       "      <td>3</td>\n",
       "      <td>39.0</td>\n",
       "      <td>0.0</td>\n",
       "      <td>0.0</td>\n",
       "      <td>1.0</td>\n",
       "    </tr>\n",
       "    <tr>\n",
       "      <th>13</th>\n",
       "      <td>0</td>\n",
       "      <td>3</td>\n",
       "      <td>14.0</td>\n",
       "      <td>0.0</td>\n",
       "      <td>0.0</td>\n",
       "      <td>1.0</td>\n",
       "    </tr>\n",
       "    <tr>\n",
       "      <th>14</th>\n",
       "      <td>1</td>\n",
       "      <td>2</td>\n",
       "      <td>55.0</td>\n",
       "      <td>0.0</td>\n",
       "      <td>1.0</td>\n",
       "      <td>0.0</td>\n",
       "    </tr>\n",
       "  </tbody>\n",
       "</table>\n",
       "</div>"
      ],
      "text/plain": [
       "    Survived  Pclass   Age  Pclass_1  Pclass_2  Pclass_3\n",
       "10         1       1  58.0       1.0       0.0       0.0\n",
       "11         0       3  20.0       0.0       0.0       1.0\n",
       "12         0       3  39.0       0.0       0.0       1.0\n",
       "13         0       3  14.0       0.0       0.0       1.0\n",
       "14         1       2  55.0       0.0       1.0       0.0"
      ]
     },
     "execution_count": 29,
     "metadata": {},
     "output_type": "execute_result"
    }
   ],
   "source": [
    "# 값을 넣어서 확인해보기\n",
    "df_TFD_extract_preprocess[10:15]   # index가 features_train과 같다."
   ]
  },
  {
   "cell_type": "code",
   "execution_count": 30,
   "id": "f5c8a2e2-9e41-4824-819e-4be5a55904cb",
   "metadata": {
    "tags": []
   },
   "outputs": [
    {
     "data": {
      "text/plain": [
       "array([0, 0, 0, 1, 0], dtype=int64)"
      ]
     },
     "execution_count": 30,
     "metadata": {},
     "output_type": "execute_result"
    }
   ],
   "source": [
    "model.predict(features_train[10:15])\n",
    "# 위에서는 0이 3개 1이 2개\n",
    "# 결과: array([0, 0, 0, 0, 0]) 60% 맞음\n",
    "\n",
    "# scaling 한 후 결과: array([0, 0, 0, 1, 0])"
   ]
  },
  {
   "cell_type": "code",
   "execution_count": 31,
   "id": "3a3c260c-0a44-4557-b09c-7543080316da",
   "metadata": {
    "tags": []
   },
   "outputs": [
    {
     "data": {
      "text/plain": [
       "array([[0.59715375, 0.40284625],\n",
       "       [0.63564456, 0.36435544],\n",
       "       [0.75219168, 0.24780832],\n",
       "       [0.47500723, 0.52499277],\n",
       "       [0.73984819, 0.26015181]])"
      ]
     },
     "execution_count": 31,
     "metadata": {},
     "output_type": "execute_result"
    }
   ],
   "source": [
    "# predict_proba() : 확률을 알 수 있음\n",
    "model.predict_proba(features_train[10:15])\n",
    "\n",
    "# [0.52507531, 0.47492469] -> 앞은 0에 대한 열, 뒤는 1에 대한 열\n",
    "# 0에 대한 확률이 더 높기 때문에 위에서 0으로 결과가 나온 것"
   ]
  },
  {
   "cell_type": "markdown",
   "id": "d5b8bbbb-6e37-4a19-9685-0acaf017b7e1",
   "metadata": {},
   "source": [
    "#### 평가"
   ]
  },
  {
   "cell_type": "code",
   "execution_count": 32,
   "id": "5db8c275-d2af-4435-b9ab-8a4b79343612",
   "metadata": {
    "tags": []
   },
   "outputs": [
    {
     "data": {
      "text/plain": [
       "(535,)"
      ]
     },
     "execution_count": 32,
     "metadata": {},
     "output_type": "execute_result"
    }
   ],
   "source": [
    "target_train_predict = model.predict(features_train)\n",
    "target_train_predict.shape  # target_train.shape과 동일"
   ]
  },
  {
   "cell_type": "code",
   "execution_count": 33,
   "id": "a6f08c42-08e8-4189-b178-9cc3c83933a5",
   "metadata": {
    "tags": []
   },
   "outputs": [],
   "source": [
    "from sklearn.metrics import accuracy_score"
   ]
  },
  {
   "cell_type": "code",
   "execution_count": 34,
   "id": "daac7e6b-591e-450d-bd52-11da4a7befb0",
   "metadata": {
    "tags": []
   },
   "outputs": [
    {
     "data": {
      "text/plain": [
       "0.708411214953271"
      ]
     },
     "execution_count": 34,
     "metadata": {},
     "output_type": "execute_result"
    }
   ],
   "source": [
    "# 정확도 평가 (실제값, 예측값을 넣으면 정확도가 평가된다)\n",
    "accuracy_score(target_train, target_train_predict)  # 교내 시험\n",
    "# 정규화 이전 : 0.7065420560747664"
   ]
  },
  {
   "cell_type": "code",
   "execution_count": 35,
   "id": "f22b5384-d513-46a4-8740-6dbfb3f817b1",
   "metadata": {
    "tags": []
   },
   "outputs": [
    {
     "data": {
      "text/plain": [
       "(179,)"
      ]
     },
     "execution_count": 35,
     "metadata": {},
     "output_type": "execute_result"
    }
   ],
   "source": [
    "target_test_predict = model.predict(features_test)\n",
    "target_test_predict.shape   # target_test.shape과 동일"
   ]
  },
  {
   "cell_type": "code",
   "execution_count": 36,
   "id": "d17e8fa2-74c2-45ae-87ed-5f371bf62d24",
   "metadata": {
    "tags": []
   },
   "outputs": [
    {
     "data": {
      "text/plain": [
       "0.6480446927374302"
      ]
     },
     "execution_count": 36,
     "metadata": {},
     "output_type": "execute_result"
    }
   ],
   "source": [
    "accuracy_score(target_test, target_test_predict)   # 교외 시험\n",
    "\n",
    "# 교내 시험, 교외 시험의 두 개의 차이가 많이 나면 모델 성능에 문제가 있다고 판단\n",
    "# 0.7, 0.65는 0.05정도의 차이이므로 양호함\n",
    "# 정규화 이전 : 0.65921787709"
   ]
  },
  {
   "cell_type": "markdown",
   "id": "6a334649-77b5-4990-ac1f-4a0b3d359d0d",
   "metadata": {},
   "source": [
    "##### **성능지표\n",
    "1. accuracy(정확도) : 정확하게 분류한 데이터 수 / 전체 데이터 수\n",
    "    * 실제 데이터 분포는 unbalance하기 때문에 accuracy만으로 평가하는 것은 무의미함.\n",
    "    * 예측값과 살제값이 얼마나 동일한지에 대한 비율로 결정\n",
    "2. precision(정밀도)\n",
    "    * 모델이 True라고 분류한 것 중 실제 True인 비율\n",
    "3. recall(재현율)\n",
    "    * 실제 True인 것 중에서 모델이 True라고 예측한 것의 비율\n",
    "    * 정밀도와 재현율은 상호보완적, 두 지표가 모두 높을수록 좋은 지표\n",
    "4. F1 Score"
   ]
  },
  {
   "cell_type": "code",
   "execution_count": 37,
   "id": "309f0a7d-8a49-4549-bde3-4c6f3d8f494d",
   "metadata": {
    "tags": []
   },
   "outputs": [],
   "source": [
    "from sklearn.metrics import classification_report"
   ]
  },
  {
   "cell_type": "code",
   "execution_count": 38,
   "id": "cc3abd6d-c350-4e3d-8a9f-7e871fa51d51",
   "metadata": {
    "tags": []
   },
   "outputs": [
    {
     "name": "stdout",
     "output_type": "stream",
     "text": [
      "              precision    recall  f1-score   support\n",
      "\n",
      "           0       0.72      0.82      0.77       312\n",
      "           1       0.69      0.55      0.61       223\n",
      "\n",
      "    accuracy                           0.71       535\n",
      "   macro avg       0.70      0.69      0.69       535\n",
      "weighted avg       0.71      0.71      0.70       535\n",
      "\n"
     ]
    }
   ],
   "source": [
    "print(classification_report(target_train, target_train_predict))   # vs code의 파이썬에서 사용되는 코드라서 print로 감싸줘야 모양이 이상하지 않게 나옴"
   ]
  },
  {
   "cell_type": "code",
   "execution_count": 39,
   "id": "1f49801f-25ab-4564-9b47-540eafbb773d",
   "metadata": {
    "tags": []
   },
   "outputs": [
    {
     "name": "stdout",
     "output_type": "stream",
     "text": [
      "              precision    recall  f1-score   support\n",
      "\n",
      "           0       0.72      0.71      0.71       112\n",
      "           1       0.53      0.55      0.54        67\n",
      "\n",
      "    accuracy                           0.65       179\n",
      "   macro avg       0.63      0.63      0.63       179\n",
      "weighted avg       0.65      0.65      0.65       179\n",
      "\n"
     ]
    }
   ],
   "source": [
    "print(classification_report(target_test, target_test_predict))"
   ]
  },
  {
   "cell_type": "markdown",
   "id": "63a8d00c-0296-4147-b51f-d5d3477409ba",
   "metadata": {},
   "source": [
    "#### 오차 행렬(confusion matrix)"
   ]
  },
  {
   "cell_type": "code",
   "execution_count": 40,
   "id": "f9fac030-50c2-47b2-a0d7-a22a6098b645",
   "metadata": {
    "tags": []
   },
   "outputs": [],
   "source": [
    "from sklearn.metrics import confusion_matrix, precision_score, recall_score, f1_score"
   ]
  },
  {
   "cell_type": "code",
   "execution_count": 41,
   "id": "972063b5-5031-48be-b9bc-78540aca2d05",
   "metadata": {
    "tags": []
   },
   "outputs": [
    {
     "data": {
      "text/plain": [
       "array([[257,  55],\n",
       "       [101, 122]], dtype=int64)"
      ]
     },
     "execution_count": 41,
     "metadata": {},
     "output_type": "execute_result"
    }
   ],
   "source": [
    "confusion_matrix(target_train, target_train_predict)\n",
    "\n",
    "# 정규화 이전\n",
    "# TN(True Negative) : 347 (예측을 negative로 했는데 실제도 negative)\n",
    "# FP(False Positive) : 77 (예측을 positive로 했는데 실제는 negative)\n",
    "# FN(False Negative) : 140 (예측은 negative로 했는데 실제는 positive)\n",
    "# TP(True Positive) : 150 (예측은 positive로 했는데 실제도 positvie)"
   ]
  },
  {
   "cell_type": "code",
   "execution_count": 42,
   "id": "e67c4794-047b-4e8e-a0d4-97a940e682a8",
   "metadata": {
    "tags": []
   },
   "outputs": [
    {
     "data": {
      "text/plain": [
       "0.6892655367231638"
      ]
     },
     "execution_count": 42,
     "metadata": {},
     "output_type": "execute_result"
    }
   ],
   "source": [
    "precision_score(target_train, target_train_predict)"
   ]
  },
  {
   "cell_type": "code",
   "execution_count": 43,
   "id": "e8215685-7e2b-42c4-9ff6-42e7350a4be0",
   "metadata": {
    "tags": []
   },
   "outputs": [
    {
     "data": {
      "text/plain": [
       "0.547085201793722"
      ]
     },
     "execution_count": 43,
     "metadata": {},
     "output_type": "execute_result"
    }
   ],
   "source": [
    "recall_score(target_train, target_train_predict)"
   ]
  },
  {
   "cell_type": "code",
   "execution_count": 44,
   "id": "6fbbd405-a824-4662-8c11-f440b2b8fa37",
   "metadata": {
    "tags": []
   },
   "outputs": [
    {
     "data": {
      "text/plain": [
       "0.6100000000000001"
      ]
     },
     "execution_count": 44,
     "metadata": {},
     "output_type": "execute_result"
    }
   ],
   "source": [
    "f1_score(target_train, target_train_predict)"
   ]
  },
  {
   "cell_type": "markdown",
   "id": "478ee391-f896-48bb-9062-232706c42d08",
   "metadata": {},
   "source": [
    "#### 서비스"
   ]
  },
  {
   "cell_type": "code",
   "execution_count": 45,
   "id": "0376acfe-f242-4165-bba2-8fb8f5fab133",
   "metadata": {
    "tags": []
   },
   "outputs": [
    {
     "data": {
      "text/html": [
       "<div>\n",
       "<style scoped>\n",
       "    .dataframe tbody tr th:only-of-type {\n",
       "        vertical-align: middle;\n",
       "    }\n",
       "\n",
       "    .dataframe tbody tr th {\n",
       "        vertical-align: top;\n",
       "    }\n",
       "\n",
       "    .dataframe thead th {\n",
       "        text-align: right;\n",
       "    }\n",
       "</style>\n",
       "<table border=\"1\" class=\"dataframe\">\n",
       "  <thead>\n",
       "    <tr style=\"text-align: right;\">\n",
       "      <th></th>\n",
       "      <th>Survived</th>\n",
       "      <th>Pclass</th>\n",
       "      <th>Age</th>\n",
       "    </tr>\n",
       "  </thead>\n",
       "  <tbody>\n",
       "    <tr>\n",
       "      <th>100</th>\n",
       "      <td>0</td>\n",
       "      <td>3</td>\n",
       "      <td>28.0</td>\n",
       "    </tr>\n",
       "    <tr>\n",
       "      <th>101</th>\n",
       "      <td>0</td>\n",
       "      <td>3</td>\n",
       "      <td>NaN</td>\n",
       "    </tr>\n",
       "    <tr>\n",
       "      <th>102</th>\n",
       "      <td>0</td>\n",
       "      <td>1</td>\n",
       "      <td>21.0</td>\n",
       "    </tr>\n",
       "  </tbody>\n",
       "</table>\n",
       "</div>"
      ],
      "text/plain": [
       "     Survived  Pclass   Age\n",
       "100         0       3  28.0\n",
       "101         0       3   NaN\n",
       "102         0       1  21.0"
      ]
     },
     "execution_count": 45,
     "metadata": {},
     "output_type": "execute_result"
    }
   ],
   "source": [
    "df_TFD_extract[100:103]"
   ]
  },
  {
   "cell_type": "code",
   "execution_count": 46,
   "id": "f82d7872-d74e-4e7b-b860-d7c7c32a5e34",
   "metadata": {
    "tags": []
   },
   "outputs": [
    {
     "name": "stderr",
     "output_type": "stream",
     "text": [
      "C:\\Users\\koreavc\\anaconda3\\Lib\\site-packages\\sklearn\\base.py:439: UserWarning: X does not have valid feature names, but OneHotEncoder was fitted with feature names\n",
      "  warnings.warn(\n"
     ]
    },
    {
     "data": {
      "text/plain": [
       "(array([[0., 0., 1.]]), array([0., 0., 1.]))"
      ]
     },
     "execution_count": 46,
     "metadata": {},
     "output_type": "execute_result"
    }
   ],
   "source": [
    "# 예측 대상자 입력값 -> Pclass:3, Age:28.0\n",
    "# oneHotEncoder : 인스턴스화 되어 있음, fit()을 통해 Pclass 학습되어 있는 상태.\n",
    "encoder_pclass_ = oneHotEncoder.transform([[3]]).toarray() # 교육시킬 때 이차원 형태로 넣어줬으므로 이차원 형태[[]]로 넣어줌\n",
    "encoder_pclass_, encoder_pclass_.flatten()"
   ]
  },
  {
   "cell_type": "code",
   "execution_count": 47,
   "id": "74402463-4e84-432a-944f-e72e65c75239",
   "metadata": {
    "tags": []
   },
   "outputs": [
    {
     "data": {
      "text/plain": [
       "array([28.,  0.,  0.,  1.])"
      ]
     },
     "execution_count": 47,
     "metadata": {},
     "output_type": "execute_result"
    }
   ],
   "source": [
    "# [[28.0, [0., 0., 1.]]]\n",
    "import numpy as np\n",
    "inputs_data = np.concatenate(([28.0],encoder_pclass_.flatten()))\n",
    "inputs_data"
   ]
  },
  {
   "cell_type": "code",
   "execution_count": 48,
   "id": "bfcfa100-6ff0-499f-af79-f6ee207f4f70",
   "metadata": {
    "tags": []
   },
   "outputs": [
    {
     "data": {
      "text/plain": [
       "array([0], dtype=int64)"
      ]
     },
     "execution_count": 48,
     "metadata": {},
     "output_type": "execute_result"
    }
   ],
   "source": [
    "model.predict([inputs_data]) # 목표변수 얻기"
   ]
  }
 ],
 "metadata": {
  "kernelspec": {
   "display_name": "Python 3 (ipykernel)",
   "language": "python",
   "name": "python3"
  },
  "language_info": {
   "codemirror_mode": {
    "name": "ipython",
    "version": 3
   },
   "file_extension": ".py",
   "mimetype": "text/x-python",
   "name": "python",
   "nbconvert_exporter": "python",
   "pygments_lexer": "ipython3",
   "version": "3.11.3"
  }
 },
 "nbformat": 4,
 "nbformat_minor": 5
}
