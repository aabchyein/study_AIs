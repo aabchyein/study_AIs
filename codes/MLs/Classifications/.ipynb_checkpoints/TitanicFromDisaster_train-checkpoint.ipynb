{
 "cells": [
  {
   "cell_type": "markdown",
   "id": "ed19223a-32d2-4600-b79a-a37f6027dee3",
   "metadata": {},
   "source": [
    "### 지도학습"
   ]
  },
  {
   "cell_type": "markdown",
   "id": "5c75a8f6-dd40-4a92-a67e-bde4ee6ba843",
   "metadata": {},
   "source": [
    "#### 분류"
   ]
  },
  {
   "cell_type": "code",
   "execution_count": null,
   "id": "08695fc0-b601-4e2f-94b9-db151ac246f7",
   "metadata": {},
   "outputs": [],
   "source": []
  }
 ],
 "metadata": {
  "kernelspec": {
   "display_name": "Python 3 (ipykernel)",
   "language": "python",
   "name": "python3"
  },
  "language_info": {
   "codemirror_mode": {
    "name": "ipython",
    "version": 3
   },
   "file_extension": ".py",
   "mimetype": "text/x-python",
   "name": "python",
   "nbconvert_exporter": "python",
   "pygments_lexer": "ipython3",
   "version": "3.11.3"
  }
 },
 "nbformat": 4,
 "nbformat_minor": 5
}
