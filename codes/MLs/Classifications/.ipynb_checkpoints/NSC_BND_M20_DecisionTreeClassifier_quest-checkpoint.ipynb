{
 "cells": [
  {
   "cell_type": "markdown",
   "id": "e9cc2b48-0582-449d-b212-82b74d9b6d6a",
   "metadata": {},
   "source": [
    "###  Quest\n",
    "- NSC_BND_M20 사용 (목표변수:SICK_SYM1, 설명변수: 연속형변수 5개 사용)\n",
    "- DecisionTreeClassifier 전처리, 학습, 평가"
   ]
  },
  {
   "cell_type": "code",
   "execution_count": 1,
   "id": "c1c1d86e-bef2-4589-8a55-216808817d2e",
   "metadata": {
    "tags": []
   },
   "outputs": [],
   "source": [
    "import pymongo as mg\n",
    "import pandas as pd"
   ]
  },
  {
   "cell_type": "code",
   "execution_count": 2,
   "id": "b209752f-c633-46f8-ba40-e308eb55e45b",
   "metadata": {
    "tags": []
   },
   "outputs": [],
   "source": [
    "client = mg.MongoClient(host='mongodb://localhost:27017')"
   ]
  },
  {
   "cell_type": "code",
   "execution_count": 3,
   "id": "d0168e86-e6ac-4fff-9c3e-673775f37009",
   "metadata": {
    "tags": []
   },
   "outputs": [],
   "source": [
    "database = client['db_NHIS']"
   ]
  },
  {
   "cell_type": "code",
   "execution_count": null,
   "id": "39255c48-abc6-43e9-b1f2-049ca3017629",
   "metadata": {},
   "outputs": [],
   "source": []
  }
 ],
 "metadata": {
  "kernelspec": {
   "display_name": "Python 3 (ipykernel)",
   "language": "python",
   "name": "python3"
  },
  "language_info": {
   "codemirror_mode": {
    "name": "ipython",
    "version": 3
   },
   "file_extension": ".py",
   "mimetype": "text/x-python",
   "name": "python",
   "nbconvert_exporter": "python",
   "pygments_lexer": "ipython3",
   "version": "3.11.3"
  }
 },
 "nbformat": 4,
 "nbformat_minor": 5
}
