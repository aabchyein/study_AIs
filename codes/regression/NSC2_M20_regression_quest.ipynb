{
 "cells": [
  {
   "cell_type": "markdown",
   "id": "c7fe3872-02da-458d-9aef-a00c8d9fe6ef",
   "metadata": {
    "tags": []
   },
   "source": [
    "### Quest\n",
    "- db_NHIS.NSC2_M20 in mongodb\n",
    "- 연속형 타입 3가지 선택(target, label), csv저장\n",
    "- 전처리, 학습, 평가, 예측 과정 진행"
   ]
  },
  {
   "cell_type": "markdown",
   "id": "bfcf23b8-fc3d-4af3-aede-8f9f4ed819e9",
   "metadata": {
    "tags": []
   },
   "source": [
    "#### mongodb에서 데이터 불러와서 변수3가지 선택 후 csv 저장"
   ]
  },
  {
   "cell_type": "code",
   "execution_count": 3,
   "id": "aca70f50-e5c3-41c7-a080-4cc5696dc131",
   "metadata": {
    "tags": []
   },
   "outputs": [],
   "source": [
    "import pymongo as mg\n",
    "import pandas as pd"
   ]
  },
  {
   "cell_type": "code",
   "execution_count": 4,
   "id": "bd4692fc-6268-45aa-be13-54987d91b833",
   "metadata": {
    "tags": []
   },
   "outputs": [],
   "source": [
    "client = mg.MongoClient(host='mongodb://localhost:27017')"
   ]
  },
  {
   "cell_type": "code",
   "execution_count": 5,
   "id": "cb7fb92f-fe80-4834-83e6-303e6a704890",
   "metadata": {
    "tags": []
   },
   "outputs": [],
   "source": [
    "database = client['db_NHIS']"
   ]
  },
  {
   "cell_type": "code",
   "execution_count": 6,
   "id": "65925277-f48c-4942-af00-dc478590492c",
   "metadata": {
    "tags": []
   },
   "outputs": [],
   "source": [
    "collection = database['NSC2_M20']"
   ]
  },
  {
   "cell_type": "code",
   "execution_count": 7,
   "id": "436b3c4c-3ef3-4c0a-b352-3a7466f8acec",
   "metadata": {
    "tags": []
   },
   "outputs": [],
   "source": [
    "cursor = collection.find({})"
   ]
  },
  {
   "cell_type": "code",
   "execution_count": 8,
   "id": "0e24927c-174c-4371-843e-7f8c5e80b8a4",
   "metadata": {
    "tags": []
   },
   "outputs": [],
   "source": [
    "list_M20 = list(cursor)"
   ]
  },
  {
   "cell_type": "code",
   "execution_count": 30,
   "id": "b3500e60-a724-47d3-adff-232fee3bb739",
   "metadata": {
    "tags": []
   },
   "outputs": [
    {
     "data": {
      "text/plain": [
       "[{'_id': ObjectId('64e5b7db6b6be67278448390'),\n",
       "  'RN_INDI': 429577,\n",
       "  'RN_KEY': 2002070826167,\n",
       "  'RN_INST': 101494,\n",
       "  'MDCARE_STRT_DT': 20020729,\n",
       "  'FORM_CD': 3,\n",
       "  'MCARE_SUBJ_CD': 15,\n",
       "  'SICK_SYM1': 'B07',\n",
       "  'OFIJ_TYPE': 0,\n",
       "  'OPRTN_YN': 0,\n",
       "  'MDCARE_DD_CNT': 1,\n",
       "  'VSHSP_DD_CNT': 1,\n",
       "  'TOT_PRSC_DD_CNT': 0,\n",
       "  'MCARE_RSLT_TYPE': 5,\n",
       "  'EDC_ADD_RT': 0.15,\n",
       "  'ED_RC_TOT_AMT': 10590,\n",
       "  'EDC_SBA': 3000,\n",
       "  'EDC_INSUR_BRDN_AMT': 7590,\n",
       "  'STD_YYYY': 2002}]"
      ]
     },
     "execution_count": 30,
     "metadata": {},
     "output_type": "execute_result"
    }
   ],
   "source": [
    "list_M20[:1]"
   ]
  },
  {
   "cell_type": "code",
   "execution_count": 27,
   "id": "ba8e72f2-2f6f-45af-a925-5cedc7a4f6e2",
   "metadata": {
    "tags": []
   },
   "outputs": [
    {
     "data": {
      "text/html": [
       "<div>\n",
       "<style scoped>\n",
       "    .dataframe tbody tr th:only-of-type {\n",
       "        vertical-align: middle;\n",
       "    }\n",
       "\n",
       "    .dataframe tbody tr th {\n",
       "        vertical-align: top;\n",
       "    }\n",
       "\n",
       "    .dataframe thead th {\n",
       "        text-align: right;\n",
       "    }\n",
       "</style>\n",
       "<table border=\"1\" class=\"dataframe\">\n",
       "  <thead>\n",
       "    <tr style=\"text-align: right;\">\n",
       "      <th></th>\n",
       "      <th>_id</th>\n",
       "      <th>RN_INDI</th>\n",
       "      <th>RN_KEY</th>\n",
       "      <th>RN_INST</th>\n",
       "      <th>MDCARE_STRT_DT</th>\n",
       "      <th>FORM_CD</th>\n",
       "      <th>MCARE_SUBJ_CD</th>\n",
       "      <th>SICK_SYM1</th>\n",
       "      <th>OFIJ_TYPE</th>\n",
       "      <th>OPRTN_YN</th>\n",
       "      <th>...</th>\n",
       "      <th>MCARE_RSLT_TYPE</th>\n",
       "      <th>EDC_ADD_RT</th>\n",
       "      <th>ED_RC_TOT_AMT</th>\n",
       "      <th>EDC_SBA</th>\n",
       "      <th>EDC_INSUR_BRDN_AMT</th>\n",
       "      <th>STD_YYYY</th>\n",
       "      <th>HSPTZ_PATH_TYPE</th>\n",
       "      <th>SICK_SYM2</th>\n",
       "      <th>SPCF_SYM_TYPE</th>\n",
       "      <th>FST_HSPTZ_DT</th>\n",
       "    </tr>\n",
       "  </thead>\n",
       "  <tbody>\n",
       "    <tr>\n",
       "      <th>0</th>\n",
       "      <td>64e5b7db6b6be67278448390</td>\n",
       "      <td>429577</td>\n",
       "      <td>2002070826167</td>\n",
       "      <td>101494</td>\n",
       "      <td>20020729</td>\n",
       "      <td>3</td>\n",
       "      <td>15</td>\n",
       "      <td>B07</td>\n",
       "      <td>0</td>\n",
       "      <td>0</td>\n",
       "      <td>...</td>\n",
       "      <td>5.0</td>\n",
       "      <td>0.15</td>\n",
       "      <td>10590</td>\n",
       "      <td>3000</td>\n",
       "      <td>7590</td>\n",
       "      <td>2002</td>\n",
       "      <td>NaN</td>\n",
       "      <td>NaN</td>\n",
       "      <td>NaN</td>\n",
       "      <td>NaN</td>\n",
       "    </tr>\n",
       "    <tr>\n",
       "      <th>1</th>\n",
       "      <td>64e5b7db6b6be67278448391</td>\n",
       "      <td>362517</td>\n",
       "      <td>2002070388352</td>\n",
       "      <td>82780</td>\n",
       "      <td>20020729</td>\n",
       "      <td>3</td>\n",
       "      <td>14</td>\n",
       "      <td>B354</td>\n",
       "      <td>NaN</td>\n",
       "      <td>0</td>\n",
       "      <td>...</td>\n",
       "      <td>5.0</td>\n",
       "      <td>0.15</td>\n",
       "      <td>10590</td>\n",
       "      <td>3000</td>\n",
       "      <td>7590</td>\n",
       "      <td>2002</td>\n",
       "      <td>NaN</td>\n",
       "      <td>NaN</td>\n",
       "      <td>NaN</td>\n",
       "      <td>NaN</td>\n",
       "    </tr>\n",
       "  </tbody>\n",
       "</table>\n",
       "<p>2 rows × 23 columns</p>\n",
       "</div>"
      ],
      "text/plain": [
       "                        _id  RN_INDI         RN_KEY  RN_INST  MDCARE_STRT_DT  \\\n",
       "0  64e5b7db6b6be67278448390   429577  2002070826167   101494        20020729   \n",
       "1  64e5b7db6b6be67278448391   362517  2002070388352    82780        20020729   \n",
       "\n",
       "   FORM_CD  MCARE_SUBJ_CD SICK_SYM1 OFIJ_TYPE  OPRTN_YN  ...  MCARE_RSLT_TYPE  \\\n",
       "0        3             15       B07         0         0  ...              5.0   \n",
       "1        3             14      B354       NaN         0  ...              5.0   \n",
       "\n",
       "   EDC_ADD_RT  ED_RC_TOT_AMT  EDC_SBA  EDC_INSUR_BRDN_AMT  STD_YYYY  \\\n",
       "0        0.15          10590     3000                7590      2002   \n",
       "1        0.15          10590     3000                7590      2002   \n",
       "\n",
       "   HSPTZ_PATH_TYPE  SICK_SYM2  SPCF_SYM_TYPE  FST_HSPTZ_DT  \n",
       "0              NaN        NaN            NaN           NaN  \n",
       "1              NaN        NaN            NaN           NaN  \n",
       "\n",
       "[2 rows x 23 columns]"
      ]
     },
     "execution_count": 27,
     "metadata": {},
     "output_type": "execute_result"
    }
   ],
   "source": [
    "df_M20 = pd.DataFrame(list_M20)\n",
    "df_M20[:2]"
   ]
  },
  {
   "cell_type": "code",
   "execution_count": 28,
   "id": "1daef3e3-8885-4afe-98a7-9c342cd7f99d",
   "metadata": {
    "tags": []
   },
   "outputs": [
    {
     "data": {
      "text/html": [
       "<div>\n",
       "<style scoped>\n",
       "    .dataframe tbody tr th:only-of-type {\n",
       "        vertical-align: middle;\n",
       "    }\n",
       "\n",
       "    .dataframe tbody tr th {\n",
       "        vertical-align: top;\n",
       "    }\n",
       "\n",
       "    .dataframe thead th {\n",
       "        text-align: right;\n",
       "    }\n",
       "</style>\n",
       "<table border=\"1\" class=\"dataframe\">\n",
       "  <thead>\n",
       "    <tr style=\"text-align: right;\">\n",
       "      <th></th>\n",
       "      <th>ED_RC_TOT_AMT</th>\n",
       "      <th>EDC_SBA</th>\n",
       "      <th>EDC_INSUR_BRDN_AMT</th>\n",
       "    </tr>\n",
       "  </thead>\n",
       "  <tbody>\n",
       "    <tr>\n",
       "      <th>0</th>\n",
       "      <td>10590</td>\n",
       "      <td>3000</td>\n",
       "      <td>7590</td>\n",
       "    </tr>\n",
       "    <tr>\n",
       "      <th>1</th>\n",
       "      <td>10590</td>\n",
       "      <td>3000</td>\n",
       "      <td>7590</td>\n",
       "    </tr>\n",
       "  </tbody>\n",
       "</table>\n",
       "</div>"
      ],
      "text/plain": [
       "   ED_RC_TOT_AMT  EDC_SBA  EDC_INSUR_BRDN_AMT\n",
       "0          10590     3000                7590\n",
       "1          10590     3000                7590"
      ]
     },
     "execution_count": 28,
     "metadata": {},
     "output_type": "execute_result"
    }
   ],
   "source": [
    "df_M20 = df_M20[['ED_RC_TOT_AMT','EDC_SBA','EDC_INSUR_BRDN_AMT']]\n",
    "df_M20[:2]"
   ]
  },
  {
   "cell_type": "code",
   "execution_count": 12,
   "id": "a15ad293-26c7-481c-8c76-f40882817246",
   "metadata": {
    "tags": []
   },
   "outputs": [],
   "source": [
    "df_M20.to_csv('./df_M20.csv')"
   ]
  },
  {
   "cell_type": "markdown",
   "id": "c334f3a2-ae07-429c-be01-87883736e064",
   "metadata": {},
   "source": [
    "#### 연속형 타입 3가지 선택\n",
    "1. target : ED_RC_TOT_AMT(심결요양급여비용총액)\n",
    "2. label\n",
    "    * EDC_SBA(심결본인부담금)\n",
    "    * EDC_INSUR_BRDN_AMT(심결보험자부담금)"
   ]
  },
  {
   "cell_type": "code",
   "execution_count": 13,
   "id": "dc141a5a-b953-483b-a801-ad0efbdc4f51",
   "metadata": {
    "tags": []
   },
   "outputs": [
    {
     "name": "stdout",
     "output_type": "stream",
     "text": [
      "<class 'pandas.core.frame.DataFrame'>\n",
      "RangeIndex: 137163 entries, 0 to 137162\n",
      "Data columns (total 3 columns):\n",
      " #   Column              Non-Null Count   Dtype\n",
      "---  ------              --------------   -----\n",
      " 0   ED_RC_TOT_AMT       137163 non-null  int64\n",
      " 1   EDC_SBA             137163 non-null  int64\n",
      " 2   EDC_INSUR_BRDN_AMT  137163 non-null  int64\n",
      "dtypes: int64(3)\n",
      "memory usage: 3.1 MB\n"
     ]
    }
   ],
   "source": [
    "df_M20.info()"
   ]
  },
  {
   "cell_type": "markdown",
   "id": "9b29fc83-fe86-4807-b1e4-a801a03db2fc",
   "metadata": {},
   "source": [
    "#### 전처리\n",
    "- 결측치, 이상치 확인\n",
    "- 목표변수와 설명변수 추출"
   ]
  },
  {
   "cell_type": "code",
   "execution_count": 14,
   "id": "840b8fbc-0943-4668-9243-91f244876eae",
   "metadata": {
    "tags": []
   },
   "outputs": [
    {
     "data": {
      "text/plain": [
       "ED_RC_TOT_AMT         0\n",
       "EDC_SBA               0\n",
       "EDC_INSUR_BRDN_AMT    0\n",
       "dtype: int64"
      ]
     },
     "execution_count": 14,
     "metadata": {},
     "output_type": "execute_result"
    }
   ],
   "source": [
    "# 결측치, 이상치 확인\n",
    "df_M20.isnull().sum()"
   ]
  },
  {
   "cell_type": "code",
   "execution_count": 15,
   "id": "517ecc33-0fb2-49fd-a517-b60e704e9dac",
   "metadata": {
    "tags": []
   },
   "outputs": [
    {
     "data": {
      "text/plain": [
       "((137163,), (137163, 2))"
      ]
     },
     "execution_count": 15,
     "metadata": {},
     "output_type": "execute_result"
    }
   ],
   "source": [
    "# 목표변수와 설명변수 분할하기\n",
    "target = df_M20['ED_RC_TOT_AMT']\n",
    "labels = df_M20[['EDC_SBA','EDC_INSUR_BRDN_AMT']]\n",
    "target.shape, labels.shape"
   ]
  },
  {
   "cell_type": "markdown",
   "id": "870d4d3b-41bf-4c74-a88a-1a40f8740304",
   "metadata": {},
   "source": [
    "#### 학습"
   ]
  },
  {
   "cell_type": "code",
   "execution_count": 16,
   "id": "79f1dc72-e480-413c-bfcb-040fcd120fff",
   "metadata": {
    "tags": []
   },
   "outputs": [],
   "source": [
    "from sklearn.linear_model import LinearRegression"
   ]
  },
  {
   "cell_type": "code",
   "execution_count": 17,
   "id": "e7bfd299-fbd6-494b-8a93-6e002eebad0e",
   "metadata": {
    "tags": []
   },
   "outputs": [
    {
     "data": {
      "text/html": [
       "<style>#sk-container-id-1 {color: black;background-color: white;}#sk-container-id-1 pre{padding: 0;}#sk-container-id-1 div.sk-toggleable {background-color: white;}#sk-container-id-1 label.sk-toggleable__label {cursor: pointer;display: block;width: 100%;margin-bottom: 0;padding: 0.3em;box-sizing: border-box;text-align: center;}#sk-container-id-1 label.sk-toggleable__label-arrow:before {content: \"▸\";float: left;margin-right: 0.25em;color: #696969;}#sk-container-id-1 label.sk-toggleable__label-arrow:hover:before {color: black;}#sk-container-id-1 div.sk-estimator:hover label.sk-toggleable__label-arrow:before {color: black;}#sk-container-id-1 div.sk-toggleable__content {max-height: 0;max-width: 0;overflow: hidden;text-align: left;background-color: #f0f8ff;}#sk-container-id-1 div.sk-toggleable__content pre {margin: 0.2em;color: black;border-radius: 0.25em;background-color: #f0f8ff;}#sk-container-id-1 input.sk-toggleable__control:checked~div.sk-toggleable__content {max-height: 200px;max-width: 100%;overflow: auto;}#sk-container-id-1 input.sk-toggleable__control:checked~label.sk-toggleable__label-arrow:before {content: \"▾\";}#sk-container-id-1 div.sk-estimator input.sk-toggleable__control:checked~label.sk-toggleable__label {background-color: #d4ebff;}#sk-container-id-1 div.sk-label input.sk-toggleable__control:checked~label.sk-toggleable__label {background-color: #d4ebff;}#sk-container-id-1 input.sk-hidden--visually {border: 0;clip: rect(1px 1px 1px 1px);clip: rect(1px, 1px, 1px, 1px);height: 1px;margin: -1px;overflow: hidden;padding: 0;position: absolute;width: 1px;}#sk-container-id-1 div.sk-estimator {font-family: monospace;background-color: #f0f8ff;border: 1px dotted black;border-radius: 0.25em;box-sizing: border-box;margin-bottom: 0.5em;}#sk-container-id-1 div.sk-estimator:hover {background-color: #d4ebff;}#sk-container-id-1 div.sk-parallel-item::after {content: \"\";width: 100%;border-bottom: 1px solid gray;flex-grow: 1;}#sk-container-id-1 div.sk-label:hover label.sk-toggleable__label {background-color: #d4ebff;}#sk-container-id-1 div.sk-serial::before {content: \"\";position: absolute;border-left: 1px solid gray;box-sizing: border-box;top: 0;bottom: 0;left: 50%;z-index: 0;}#sk-container-id-1 div.sk-serial {display: flex;flex-direction: column;align-items: center;background-color: white;padding-right: 0.2em;padding-left: 0.2em;position: relative;}#sk-container-id-1 div.sk-item {position: relative;z-index: 1;}#sk-container-id-1 div.sk-parallel {display: flex;align-items: stretch;justify-content: center;background-color: white;position: relative;}#sk-container-id-1 div.sk-item::before, #sk-container-id-1 div.sk-parallel-item::before {content: \"\";position: absolute;border-left: 1px solid gray;box-sizing: border-box;top: 0;bottom: 0;left: 50%;z-index: -1;}#sk-container-id-1 div.sk-parallel-item {display: flex;flex-direction: column;z-index: 1;position: relative;background-color: white;}#sk-container-id-1 div.sk-parallel-item:first-child::after {align-self: flex-end;width: 50%;}#sk-container-id-1 div.sk-parallel-item:last-child::after {align-self: flex-start;width: 50%;}#sk-container-id-1 div.sk-parallel-item:only-child::after {width: 0;}#sk-container-id-1 div.sk-dashed-wrapped {border: 1px dashed gray;margin: 0 0.4em 0.5em 0.4em;box-sizing: border-box;padding-bottom: 0.4em;background-color: white;}#sk-container-id-1 div.sk-label label {font-family: monospace;font-weight: bold;display: inline-block;line-height: 1.2em;}#sk-container-id-1 div.sk-label-container {text-align: center;}#sk-container-id-1 div.sk-container {/* jupyter's `normalize.less` sets `[hidden] { display: none; }` but bootstrap.min.css set `[hidden] { display: none !important; }` so we also need the `!important` here to be able to override the default hidden behavior on the sphinx rendered scikit-learn.org. See: https://github.com/scikit-learn/scikit-learn/issues/21755 */display: inline-block !important;position: relative;}#sk-container-id-1 div.sk-text-repr-fallback {display: none;}</style><div id=\"sk-container-id-1\" class=\"sk-top-container\"><div class=\"sk-text-repr-fallback\"><pre>LinearRegression()</pre><b>In a Jupyter environment, please rerun this cell to show the HTML representation or trust the notebook. <br />On GitHub, the HTML representation is unable to render, please try loading this page with nbviewer.org.</b></div><div class=\"sk-container\" hidden><div class=\"sk-item\"><div class=\"sk-estimator sk-toggleable\"><input class=\"sk-toggleable__control sk-hidden--visually\" id=\"sk-estimator-id-1\" type=\"checkbox\" checked><label for=\"sk-estimator-id-1\" class=\"sk-toggleable__label sk-toggleable__label-arrow\">LinearRegression</label><div class=\"sk-toggleable__content\"><pre>LinearRegression()</pre></div></div></div></div></div>"
      ],
      "text/plain": [
       "LinearRegression()"
      ]
     },
     "execution_count": 17,
     "metadata": {},
     "output_type": "execute_result"
    }
   ],
   "source": [
    "model = LinearRegression()\n",
    "model.fit(labels, target)"
   ]
  },
  {
   "cell_type": "markdown",
   "id": "aa7963b7-af4e-4872-aabb-f3c18a18a224",
   "metadata": {},
   "source": [
    "#### 평가"
   ]
  },
  {
   "cell_type": "code",
   "execution_count": 18,
   "id": "e4908e54-a184-4d6a-9d53-6f1813cd25e6",
   "metadata": {
    "tags": []
   },
   "outputs": [
    {
     "data": {
      "text/plain": [
       "137163"
      ]
     },
     "execution_count": 18,
     "metadata": {},
     "output_type": "execute_result"
    }
   ],
   "source": [
    "target_predict = model.predict(labels)\n",
    "len(target_predict)"
   ]
  },
  {
   "cell_type": "code",
   "execution_count": 19,
   "id": "7fe6ac1f-b700-4290-bef3-cac0d3784fd4",
   "metadata": {
    "tags": []
   },
   "outputs": [
    {
     "data": {
      "text/plain": [
       "0.9995187335140789"
      ]
     },
     "execution_count": 19,
     "metadata": {},
     "output_type": "execute_result"
    }
   ],
   "source": [
    "from sklearn.metrics import r2_score\n",
    "r2_score(target, target_predict)"
   ]
  },
  {
   "cell_type": "markdown",
   "id": "21ed80f7-f02e-43f3-86e1-4347cdfa83ba",
   "metadata": {},
   "source": [
    "#### 예측"
   ]
  },
  {
   "cell_type": "code",
   "execution_count": 23,
   "id": "1209ada2-9d37-44d9-a3dd-60ce2e4f576d",
   "metadata": {
    "tags": []
   },
   "outputs": [
    {
     "data": {
      "text/html": [
       "<div>\n",
       "<style scoped>\n",
       "    .dataframe tbody tr th:only-of-type {\n",
       "        vertical-align: middle;\n",
       "    }\n",
       "\n",
       "    .dataframe tbody tr th {\n",
       "        vertical-align: top;\n",
       "    }\n",
       "\n",
       "    .dataframe thead th {\n",
       "        text-align: right;\n",
       "    }\n",
       "</style>\n",
       "<table border=\"1\" class=\"dataframe\">\n",
       "  <thead>\n",
       "    <tr style=\"text-align: right;\">\n",
       "      <th></th>\n",
       "      <th>ED_RC_TOT_AMT</th>\n",
       "      <th>EDC_SBA</th>\n",
       "      <th>EDC_INSUR_BRDN_AMT</th>\n",
       "    </tr>\n",
       "  </thead>\n",
       "  <tbody>\n",
       "    <tr>\n",
       "      <th>50</th>\n",
       "      <td>11170</td>\n",
       "      <td>3000</td>\n",
       "      <td>8170</td>\n",
       "    </tr>\n",
       "    <tr>\n",
       "      <th>51</th>\n",
       "      <td>11170</td>\n",
       "      <td>3000</td>\n",
       "      <td>8170</td>\n",
       "    </tr>\n",
       "    <tr>\n",
       "      <th>52</th>\n",
       "      <td>11170</td>\n",
       "      <td>3000</td>\n",
       "      <td>8170</td>\n",
       "    </tr>\n",
       "    <tr>\n",
       "      <th>53</th>\n",
       "      <td>11170</td>\n",
       "      <td>3000</td>\n",
       "      <td>8170</td>\n",
       "    </tr>\n",
       "    <tr>\n",
       "      <th>54</th>\n",
       "      <td>11170</td>\n",
       "      <td>3000</td>\n",
       "      <td>8170</td>\n",
       "    </tr>\n",
       "  </tbody>\n",
       "</table>\n",
       "</div>"
      ],
      "text/plain": [
       "    ED_RC_TOT_AMT  EDC_SBA  EDC_INSUR_BRDN_AMT\n",
       "50          11170     3000                8170\n",
       "51          11170     3000                8170\n",
       "52          11170     3000                8170\n",
       "53          11170     3000                8170\n",
       "54          11170     3000                8170"
      ]
     },
     "execution_count": 23,
     "metadata": {},
     "output_type": "execute_result"
    }
   ],
   "source": [
    "df_M20[50:55]"
   ]
  },
  {
   "cell_type": "code",
   "execution_count": 24,
   "id": "a980338d-2531-497f-9e6e-555b23cf1829",
   "metadata": {
    "tags": []
   },
   "outputs": [],
   "source": [
    "# 51번째의 설명변수 EDC_SBA, EDC_INSUR_BRDN_AMT 값들\n",
    "temp_label = [[3000, 8170]]"
   ]
  },
  {
   "cell_type": "code",
   "execution_count": 26,
   "id": "075dc6a1-f230-4935-9657-32f16860955a",
   "metadata": {
    "tags": []
   },
   "outputs": [
    {
     "name": "stderr",
     "output_type": "stream",
     "text": [
      "C:\\Users\\koreavc\\anaconda3\\Lib\\site-packages\\sklearn\\base.py:439: UserWarning: X does not have valid feature names, but LinearRegression was fitted with feature names\n",
      "  warnings.warn(\n"
     ]
    },
    {
     "data": {
      "text/plain": [
       "array([11280.0794328])"
      ]
     },
     "execution_count": 26,
     "metadata": {},
     "output_type": "execute_result"
    }
   ],
   "source": [
    "model.predict(temp_label)\n",
    "# 51번째 목표변수 원래값: 11170\n",
    "# 예측값: 11280"
   ]
  }
 ],
 "metadata": {
  "kernelspec": {
   "display_name": "Python 3 (ipykernel)",
   "language": "python",
   "name": "python3"
  },
  "language_info": {
   "codemirror_mode": {
    "name": "ipython",
    "version": 3
   },
   "file_extension": ".py",
   "mimetype": "text/x-python",
   "name": "python",
   "nbconvert_exporter": "python",
   "pygments_lexer": "ipython3",
   "version": "3.11.3"
  }
 },
 "nbformat": 4,
 "nbformat_minor": 5
}
